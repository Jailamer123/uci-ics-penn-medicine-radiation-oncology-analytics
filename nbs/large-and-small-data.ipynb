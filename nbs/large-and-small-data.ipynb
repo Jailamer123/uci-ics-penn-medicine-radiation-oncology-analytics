{
 "cells": [
  {
   "cell_type": "code",
   "execution_count": 1,
   "metadata": {},
   "outputs": [],
   "source": [
    "import pandas as pd\n",
    "import numpy as np\n",
    "import datetime\n",
    "\n",
    "# hate the warnings\n",
    "import warnings\n",
    "warnings.filterwarnings('ignore')"
   ]
  },
  {
   "cell_type": "code",
   "execution_count": 2,
   "metadata": {},
   "outputs": [],
   "source": [
    "# Import small and large data\n",
    "\n",
    "large_data = pd.read_csv(\"../data/large_data.csv\")\n",
    "small_data = pd.read_csv(\"../data/small_data.csv\")"
   ]
  },
  {
   "cell_type": "code",
   "execution_count": 3,
   "metadata": {},
   "outputs": [
    {
     "data": {
      "text/plain": [
       "(974, 279)"
      ]
     },
     "execution_count": 3,
     "metadata": {},
     "output_type": "execute_result"
    }
   ],
   "source": [
    " # Combined large and small datasets\n",
    "data = pd.concat([large_data, small_data], ignore_index = True)\n",
    "\n",
    "# 971 rows × 236 columns\n",
    "data.shape"
   ]
  },
  {
   "cell_type": "code",
   "execution_count": 4,
   "metadata": {},
   "outputs": [],
   "source": [
    "data.loc[(data[\"total_chemo_received\"] == \"\") |\n",
    "         (data[\"total_chemo_received\"] == \" \"), \"total_chemo_received\"] = np.nan\n",
    "data[\"total_chemo_received\"] = data[\"total_chemo_received\"].astype(float)\n",
    "data.loc[data[\"total_chemo_received\"] == 0, \"chemo\"] = 0\n",
    "data.loc[data[\"total_chemo_received\"] > 0, \"chemo\"] = 1"
   ]
  },
  {
   "cell_type": "code",
   "execution_count": 5,
   "metadata": {},
   "outputs": [],
   "source": [
    "data.loc[data[\"ebrt_curr_dose\"] == 0, \"received_ebrt\"] = 0\n",
    "data.loc[data[\"ebrt_curr_dose\"] > 0, \"received_ebrt\"] = 1\n",
    "\n",
    "data.loc[data[\"brachy_curr_dose\"] == 0, \"received_brachy\"] = 0\n",
    "data.loc[data[\"brachy_curr_dose\"] > 0, \"received_brachy\"] = 1\n",
    "\n",
    "data.loc[data[\"ebrt_boost_curr_dose\"] == 0, \"received_ebrt_boost\"] = 0\n",
    "data.loc[data[\"ebrt_boost_curr_dose\"] > 0, \"received_ebrt_boost\"] = 1\n",
    "\n",
    "data.loc[data[\"eqd2\"] == \"\", \"eqd2\"] = np.nan\n",
    "data[\"eqd2\"] = data[\"eqd2\"].astype(float)\n",
    "data.loc[data[\"eqd2\"] == 0, \"received_eqd2\"] = 0\n",
    "data.loc[data[\"eqd2\"] > 0, \"received_eqd2\"] = 1\n",
    "\n",
    "\n",
    "data.loc[(data[\"enroll_age\"] >= 21) &\n",
    "                 (data[\"enroll_age\"] <= 39), \"age_cat\"] = 1\n",
    "data.loc[(data[\"enroll_age\"] >= 40) &\n",
    "                 (data[\"enroll_age\"] <= 59), \"age_cat\"] = 2\n",
    "data.loc[(data[\"enroll_age\"] >= 60) &\n",
    "                 (data[\"enroll_age\"] <= 96), \"age_cat\"] = 3"
   ]
  },
  {
   "cell_type": "code",
   "execution_count": 6,
   "metadata": {},
   "outputs": [
    {
     "name": "stdout",
     "output_type": "stream",
     "text": [
      "[365.0, 828.0, 6495.0, 6496.0, 'OB046']\n"
     ]
    }
   ],
   "source": [
    "# time_alive will not be able to be calculated on these patients \n",
    "data.loc[data[\"treat_start_date\"] == \"\", \"treat_start_date\"] = np.nan\n",
    "data.loc[data[\"death_date\"] == \"\", \"death_date\"] = np.nan\n",
    "print(list(data[(data[\"death_date\"].isnull()) | (data[\"treat_start_date\"].isnull())][\"patient_id\"]))\n"
   ]
  },
  {
   "cell_type": "code",
   "execution_count": 7,
   "metadata": {},
   "outputs": [
    {
     "name": "stdout",
     "output_type": "stream",
     "text": [
      "974\n",
      "366\n",
      "607\n"
     ]
    }
   ],
   "source": [
    "print(len(set(data[\"patient_id\"]))) # all patients from large and small data combined\n",
    "print(len(set(data[data[\"vital_status\"] == 1][\"patient_id\"])))\n",
    "print(len(set(data[data[\"vital_status\"] == 0][\"patient_id\"])))"
   ]
  },
  {
   "cell_type": "code",
   "execution_count": 8,
   "metadata": {},
   "outputs": [],
   "source": [
    "data[\"time_alive\"] = abs(pd.to_datetime(data[\"death_date\"]) - pd.to_datetime(data[\"treat_start_date\"])).dt.days"
   ]
  },
  {
   "cell_type": "code",
   "execution_count": 9,
   "metadata": {},
   "outputs": [],
   "source": [
    "data.loc[data[\"other_arv_name\"] == \"ALLUVIA\", \"aluvia\"] = 1\n",
    "data.loc[data[\"other_arv_name\"] == \"Lamivoline\", \"lamivudine\"] = 1\n",
    "data.loc[data[\"other_arv_name\"] == \"Started Truvada and NVP 2014\", \"truvada\"] = 1\n",
    "data.loc[data[\"other_arv_name\"] == \"Started Truvada and NVP 2014\", \"nevirapine\"] = 1\n",
    "data.loc[data[\"other_arv_name\"] == \"TLD\", \"tenofovir\"] = 1\n",
    "data.loc[data[\"other_arv_name\"] == \"TLD\", \"lamivudine\"] = 1\n",
    "data.loc[data[\"other_arv_name\"] == \"TLD\", \"dolutegravir\"] = 1\n",
    "\n",
    "data.loc[(data[\"tenofovir\"] == 1) &\n",
    "         (data[\"lamivudine\"] == 1) &\n",
    "         (data[\"dolutegravir\"] == 1), \"tld\"] = 1\n",
    "\n",
    "data.loc[data[\"other_arv_name\"] == \"TLD\", \"tld\"] = 1"
   ]
  },
  {
   "cell_type": "code",
   "execution_count": 10,
   "metadata": {},
   "outputs": [],
   "source": [
    "# Create binary column to indicate whether or not patients have symptoms at presentation\n",
    "set(data[\"vaginal_hemorrhage\"].dropna()) # {0,1,2}\n",
    "data[\"vaginal_hemorrhage_symp\"] = np.nan\n",
    "data.loc[data.vaginal_hemorrhage == 0, \"vaginal_hemorrhage_symp\"] = 0\n",
    "data.loc[data.vaginal_hemorrhage == 1, \"vaginal_hemorrhage_symp\"] = 1\n",
    "data.loc[data.vaginal_hemorrhage == 2, \"vaginal_hemorrhage_symp\"] = 1\n",
    "\n",
    "set(data[\"vaginal_discharge\"].dropna()) # {0,1,2}\n",
    "data[\"vaginal_discharge_symp\"] = np.nan\n",
    "data.loc[data.vaginal_discharge == 0, \"vaginal_discharge_symp\"] = 0\n",
    "data.loc[data.vaginal_discharge == 1, \"vaginal_discharge_symp\"] = 1\n",
    "data.loc[data.vaginal_discharge == 2, \"vaginal_discharge_symp\"] = 1\n",
    "\n",
    "set(data[\"pelvic_pain\"].dropna()) # {0,1,2,3}\n",
    "data[\"pelvic_pain_symp\"] = np.nan\n",
    "data.loc[data.pelvic_pain == 0, \"pelvic_pain_symp\"] = 0\n",
    "data.loc[data.pelvic_pain == 1, \"pelvic_pain_symp\"] = 1\n",
    "data.loc[data.pelvic_pain == 2, \"pelvic_pain_symp\"] = 1\n",
    "data.loc[data.pelvic_pain == 3, \"pelvic_pain_symp\"] = 1"
   ]
  },
  {
   "cell_type": "code",
   "execution_count": 11,
   "metadata": {},
   "outputs": [],
   "source": [
    "# Create ARV groupings\n",
    "\n",
    "data[\"nrti\"] = 0\n",
    "data[\"nnrti\"] = 0\n",
    "data[\"pi\"] = 0\n",
    "\n",
    "data.loc[(data[\"abacavir\"] == 1) | (data[\"azt\"] == 1) |\n",
    "         (data[\"tdf\"] == 1) | (data[\"lamivudine\"] == 1) |\n",
    "         (data[\"stavudine\"] == 1) | (data[\"azt\"] == 1) |\n",
    "         (data[\"emtricitabine\"] == 1) | (data[\"didanosine\"] == 1) |\n",
    "         (data[\"atripla\"] == 1) | (data[\"combivir\"] == 1) |\n",
    "         (data[\"truvada\"] == 1) | (data[\"tld\"] == 1) | (data[\"dolutegravir\"] == 1), \"nrti\"] = 1\n",
    "\n",
    "data.loc[(data[\"nevirapine\"] == 1) | (data[\"efavirenz\"] == 1) |\n",
    "         (data[\"atripla\"] == 1), \"nnrti\"] = 1\n",
    "         \n",
    "data.loc[(data[\"atazanavir_boosted\"] == 1) | (data[\"atazanavir\"] == 1) |\n",
    "         (data[\"amprenavir\"] == 1) | (data[\"darunavir\"] == 1) |\n",
    "         (data[\"darunavir_boosted\"] == 1) | (data[\"nelfinavir\"] == 1) |\n",
    "         (data[\"tipranavir_boosted\"] == 1) | (data[\"tipranavir\"] == 1) |\n",
    "         (data[\"amprenavir\"] == 1) | (data[\"darunavir\"] == 1), \"pi\"] = 1  "
   ]
  },
  {
   "cell_type": "code",
   "execution_count": 12,
   "metadata": {},
   "outputs": [],
   "source": [
    "# Index columns necessary for analysis\n",
    "data = data[[\"patient_id\", \"enroll_age\", \"age_cat\", \"hiv_status\", \"marital\", \"distance\", \"cancer_screening\", \"combined_cancer_stage\", \n",
    "             \"cr_result\", \"hb_result\", \"neut_result\", \"wbc_result\", \"init_performance_status\", \"total_chemo_received\", \n",
    "             \"ebrt_curr_dose\", \"brachy_curr_dose\", \"eqd2\", \"ebrt_boost_curr_dose\", \"treat_duration\", \"treat_response\", \"vital_status\",\n",
    "             \"death_date\", \"treat_start_date\", \"vaginal_hemorrhage\", \"vaginal_discharge\", \"pelvic_pain\", \"cd4_final\", \"vl_final\", \n",
    "             \"on_arv\", \"nevirapine\", \"efavirenz\", \"atripla\", \"nnrti\",\n",
    "             \"abacavir\", \"azt\", \"tdf\", \"lamivudine\", \"stavudine\", \"emtricitabine\", \"didanosine\", \"atripla\", \"combivir\", \"truvada\", \"tld\", \"dolutegravir\", \"nrti\", \n",
    "             \"atazanavir_boosted\", \"atazanavir\", \"amprenavir\", \"darunavir\", \"darunavir_boosted\", \"nelfinavir\", \"tipranavir_boosted\", \"tipranavir\", \"amprenavir\", \"darunavir\", \"pi\",\n",
    "             \"cr_result_tox\", \"pelvic_pain_tox\", \"vaginal_discharge_tox\", \"vaginal_hemorrhage_tox\", \"fatigue_tox\", \"weight_loss_tox\", \n",
    "             \"nausea_tox\", \"vomiting_tox\", \"urine_freq_tox\", \"urine_incontinence_tox\", \"urine_urge_tox\", \"diarrhea_tox\", \"dermatitis_tox\",\n",
    "             \"hb_min_result_tox\",\"wbc_min_result_tox\", \"neut_min_result_tox\", \"alb_min_result_tox\"]]\n"
   ]
  },
  {
   "cell_type": "code",
   "execution_count": 13,
   "metadata": {},
   "outputs": [],
   "source": [
    "data.to_csv(\"./data.csv\")"
   ]
  }
 ],
 "metadata": {
  "kernelspec": {
   "display_name": "Python 3",
   "language": "python",
   "name": "python3"
  },
  "language_info": {
   "codemirror_mode": {
    "name": "ipython",
    "version": 3
   },
   "file_extension": ".py",
   "mimetype": "text/x-python",
   "name": "python",
   "nbconvert_exporter": "python",
   "pygments_lexer": "ipython3",
   "version": "3.8.0"
  }
 },
 "nbformat": 4,
 "nbformat_minor": 5
}
