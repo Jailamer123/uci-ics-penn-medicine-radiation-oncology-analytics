{
 "cells": [
  {
   "cell_type": "code",
   "execution_count": 1,
   "metadata": {},
   "outputs": [],
   "source": [
    "import pandas as pd\n",
    "import datetime as dt"
   ]
  },
  {
   "cell_type": "code",
   "execution_count": null,
   "metadata": {},
   "outputs": [],
   "source": [
    "late_path = pd.read_csv(\"../data/pathology_2020_patients.csv\")\n",
    "late_path.head()\n",
    "\n",
    "# Number of patients who have pathology date after 12/31/2019\n",
    "print(len(set(late_path[\"patient_id\"])))\n",
    "print(sorted(set(late_path[\"patient_id\"])))\n",
    "# Export these patient ids\n",
    "#late_path[\"patient_id\"].drop_duplicates().to_excel(\"../data/data_for_surbhi_to_check/late_pathology_patient_ids.xlsx\", index = False)"
   ]
  },
  {
   "cell_type": "code",
   "execution_count": null,
   "metadata": {},
   "outputs": [],
   "source": [
    "# All patients (large and small) with cancer stage > 0\n",
    "data = pd.read_csv(\"../data/data.csv\")"
   ]
  },
  {
   "cell_type": "code",
   "execution_count": null,
   "metadata": {},
   "outputs": [],
   "source": [
    "# Number of patients IB2 and above\n",
    "len(data[data[\"combined_cancer_stage_exact\"] >= 6][\"patient_id\"])"
   ]
  },
  {
   "cell_type": "code",
   "execution_count": null,
   "metadata": {},
   "outputs": [],
   "source": [
    "# For patients IB2 and above:\n",
    "ib2_above = data[data[\"combined_cancer_stage_exact\"] >= 6]\n",
    "\n",
    "# Number of IB and above patients who do not have treatment (RT) start date\n",
    "print(len(ib2_above[ib2_above[\"actual_treat_start_date\"].isnull()][\"patient_id\"]))\n",
    "print(sorted(ib2_above[ib2_above[\"actual_treat_start_date\"].isnull()][\"patient_id\"]))\n",
    "# Export these patient ids\n",
    "#ib2_above[ib2_above[\"actual_treat_start_date\"].isnull()][\"patient_id\"].to_excel(\"../data/data_for_surbhi_to_check/no_treat_start_date_patient_ids.xlsx\", index = False)\n",
    "# Of these, only 1 received surgery\n",
    "print(len(ib2_above[(ib2_above[\"actual_treat_start_date\"].isnull()) & (ib2_above[\"surgery\"] == 1)]))"
   ]
  },
  {
   "cell_type": "code",
   "execution_count": null,
   "metadata": {},
   "outputs": [],
   "source": [
    "# Assess time to treatment\n",
    "ib2_above[\"path_to_treatment_difference\"] = (pd.to_datetime(ib2_above[\"actual_treat_start_date\"]) - pd.to_datetime(ib2_above[\"pathology_date\"])).dt.days\n",
    "\n",
    "ib2_above[\"path_to_treatment_difference\"].describe()\n",
    "\n",
    "# Export information for Surbhi\n",
    "ib2_above[[\"patient_id\", \"pathology_date\", \"actual_treat_start_date\", \"path_to_treatment_difference\"]].to_excel(\"../data/data_for_surbhi_to_check/time_to_treatment.xlsx\", index = False)\n",
    "\n",
    "# Check patients who have negative delay\n",
    "#ib2_above[ib2_above[\"path_to_treatment_difference\"] < 0][[\"patient_id\", \"pathology_date\", \"actual_treat_start_date\", \"path_to_treatment_difference\"]].to_excel(\"../data/data_for_surbhi_to_check/time_to_treatment_negative.xlsx\", index = False)\n",
    "\n"
   ]
  },
  {
   "cell_type": "code",
   "execution_count": 7,
   "metadata": {},
   "outputs": [],
   "source": [
    "# Save delay data\n",
    "ib2_above.to_excel(\"../data/time_to_treatment_data.xlsx\", index = False)"
   ]
  }
 ],
 "metadata": {
  "kernelspec": {
   "display_name": "Python 3",
   "language": "python",
   "name": "python3"
  },
  "language_info": {
   "codemirror_mode": {
    "name": "ipython",
    "version": 3
   },
   "file_extension": ".py",
   "mimetype": "text/x-python",
   "name": "python",
   "nbconvert_exporter": "python",
   "pygments_lexer": "ipython3",
   "version": "3.8.0"
  }
 },
 "nbformat": 4,
 "nbformat_minor": 4
}
