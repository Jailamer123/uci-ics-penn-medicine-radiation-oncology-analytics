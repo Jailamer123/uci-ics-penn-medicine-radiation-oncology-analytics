{
 "cells": [
  {
   "cell_type": "code",
   "execution_count": 1,
   "metadata": {},
   "outputs": [],
   "source": [
    "import pandas as pd\n",
    "import numpy as np\n",
    "import datetime\n",
    "\n",
    "import warnings\n",
    "warnings.filterwarnings('ignore')"
   ]
  },
  {
   "cell_type": "code",
   "execution_count": null,
   "metadata": {},
   "outputs": [],
   "source": [
    "# Small data\n",
    "data = pd.read_stata(\"../data/20170213 Cure complete tx-Stata 13.dta\")\n",
    "\n",
    "# 182 rows × 275 columns\n",
    "data.drop_duplicates()"
   ]
  },
  {
   "cell_type": "code",
   "execution_count": 3,
   "metadata": {},
   "outputs": [],
   "source": [
    "# Goal here is to find patients that do not have a followup/death date / are duplicates\n",
    "all_182_ids = data[\"id\"]\n",
    "\n",
    "# This sheet has updated follow ups that were updated in 2020\n",
    "dates_2020 = pd.read_csv(\"../data/2020_followup.csv\")\n",
    "dates_2020\n",
    "\n",
    "# Drop duplicate follow ups, keeping the latest one\n",
    "dates_2020[dates_2020[\"Study ID\"].isin([\"BT160\", \"DP051\", \"DS165\", \"KB017\", \"MR117\"])]\n",
    "dates_2020 = dates_2020.drop(dates_2020.index[[8, 12, 13, 28, 60]])\n",
    "dates_2020 = dates_2020.drop_duplicates()\n",
    "dates_2020[\"Last follow up date ( as in 2020)\"] = dates_2020[\"Last follow up date ( as in 2020)\"].fillna(dates_2020[\"Date of Death/Last seen in IPMS\"])\n",
    "dates_2020\n",
    "\n",
    "# dates_2020 misses 39 patients. This sheet contains those 39 patients without updates\n",
    "# Adjusted SM181 death/followup date based on original data\n",
    "remaining_39 = pd.read_csv(\"../data/extra_2020_followup.csv\")\n",
    "\n",
    "# Combine data to have updated death dates/followups for all subjects\n",
    "combined_182_fp_updates = pd.concat([dates_2020, remaining_39], ignore_index = True)\n",
    "\n",
    "# Grab rows of interest\n",
    "combined_182_fp_updates = combined_182_fp_updates[[\"Study ID\", \"Vital Status\", \"Last follow up date ( as in 2020)\"]]\n",
    "combined_182_fp_updates.rename(columns = {\"Study ID\":\"id\", \"Vital Status\":\"vital_status\", \"Last follow up date ( as in 2020)\":\"death_followup\"}, inplace = True)\n",
    "combined_182_fp_updates[\"death_followup\"] = pd.to_datetime(combined_182_fp_updates[\"death_followup\"])\n",
    "\n",
    "# Update in data\n",
    "data = pd.merge(data, combined_182_fp_updates, on = \"id\").drop_duplicates()"
   ]
  },
  {
   "cell_type": "code",
   "execution_count": 4,
   "metadata": {},
   "outputs": [
    {
     "data": {
      "text/plain": [
       "182"
      ]
     },
     "execution_count": 4,
     "metadata": {},
     "output_type": "execute_result"
    }
   ],
   "source": [
    "len(set(data[\"id\"]))"
   ]
  },
  {
   "cell_type": "code",
   "execution_count": 5,
   "metadata": {},
   "outputs": [],
   "source": [
    "# Reseting factor columns to match large data\n",
    "\n",
    "set(data[\"xmarital\"]) # {'divorced/widowed', 'married/partnered', nan, 'single'}\n",
    "data.loc[data[\"xmarital\"] == 'divorced/widowed', 'xmarital'] = 2\n",
    "data.loc[data[\"xmarital\"] == 'single', 'xmarital'] = 3\n",
    "data.loc[data[\"xmarital\"] == 'married/partnered', 'xmarital'] = 1\n",
    "\n",
    "data.loc[data[\"hiv_status\"] == \"positive\", \"hiv_status\"] = 1\n",
    "data.loc[data[\"hiv_status\"] == \"negative\", \"hiv_status\"] = 0\n",
    "data.loc[data[\"hiv_status\"] == \"not tested\", \"hiv_status\"] = np.nan\n",
    "\n",
    "data.loc[data[\"tumorresponse\"] == \"complete\", \"tumorresponse\"] = 1\n",
    "data.loc[data[\"tumorresponse\"] == \"partial\", \"tumorresponse\"] = 2\n",
    "data.loc[data[\"tumorresponse\"] == \"no_tx\", \"tumorresponse\"] = 4\n",
    "data.loc[data[\"tumorresponse\"] == \"to be assessed on followup\", \"tumorresponse\"] = 3\n",
    "data.loc[data[\"tumorresponse\"] == \"not recorded\", \"tumorresponse\"] = 5"
   ]
  },
  {
   "cell_type": "code",
   "execution_count": null,
   "metadata": {},
   "outputs": [],
   "source": [
    "# For patients who did not get eqd2 (radiation therapy), use pathology_date for treat_start_date (later, this will be used to calculate time_alive)\n",
    "data[\"date_histology\"] = pd.to_datetime(data[\"date_histology\"], unit = 'D', origin = pd.Timestamp('1960-01-01'))\n",
    "data.loc[data[\"date_radiation_begins\"] == \".\", \"date_radiation_begins\"] = np.nan\n",
    "data[\"date_radiation_begins\"] = pd.to_datetime(data[\"date_radiation_begins\"])\n",
    "data[\"date_radiation_begins\"] = data[\"date_radiation_begins\"].fillna(data[\"date_histology\"])\n",
    "data[data[\"date_radiation_begins\"].isnull()] # One person without radiation start date"
   ]
  },
  {
   "cell_type": "code",
   "execution_count": 7,
   "metadata": {},
   "outputs": [],
   "source": [
    "# Add cd4 closest to radiation start date\n",
    "\n",
    "cd4 = data[data[\"hiv_status\"] == 1][[\"id\", \"date_radiation_begins\", \"date_histology\", \"cd4_1\", \"date_1_cd4\", \"cd4_2\", \"date_2_cd4\", \"cd4_3\", \"date_3_cd4\",\n",
    "               \"cd4_4\", \"date_4_cd4\", \"cd4_5\", \"date_5_cd4\", \"cd4_6\", \"date_6_cd4\", \"cd4_7\", \"date_7_cd4\",\n",
    "               \"cd4_8\", \"date_8_cd4\", \"cd4_9\", \"date_9_cd4\", \"cd4_10\", \"date_10_cd4\", \"cd4_11\", \"date_11_cd4\",\n",
    "               \"cd4_12\", \"date_12_cd4\", \"cd4_13\", \"date_13_cd4\", \"cd4_14\", \"date_14_cd4\", \"cd4_15\", \"date_15_cd4\",\n",
    "               \"cd4_16\", \"date_16_cd4\"]]\n",
    "cd4.rename(columns = {\"date_1_cd4\":\"date_1\", \"date_2_cd4\":\"date_2\", \"date_3_cd4\":\"date_3\", \"date_4_cd4\":\"date_4\",\n",
    "                      \"date_5_cd4\":\"date_5\", \"date_6_cd4\":\"date_6\", \"date_7_cd4\":\"date_7\", \"date_8_cd4\":\"date_8\",\n",
    "                      \"date_9_cd4\":\"date_9\", \"date_10_cd4\":\"date_10\", \"date_11_cd4\":\"date_11\", \"date_12_cd4\":\"date_12\",\n",
    "                      \"date_13_cd4\":\"date_13\", \"date_14_cd4\":\"date_14\", \"date_15_cd4\":\"date_15\", \"date_16_cd4\":\"date_16\"}, inplace = True)\n",
    "\n",
    "# Pivot to grab everyone cd4 value that is closest to the radiation start date\n",
    "cd4 = pd.wide_to_long(cd4, [\"date_\", \"cd4_\"], i = [\"id\", \"date_radiation_begins\", \"date_histology\"], j = \"key\").dropna(how = \"all\").reset_index()\n",
    "# Create column to determine which cd4 date is closest to the radiation start date\n",
    "cd4[\"date_radiation_begins\"] = cd4[\"date_radiation_begins\"].fillna(cd4[\"date_histology\"])\n",
    "cd4[\"date_difference\"] = abs((cd4[\"date_radiation_begins\"] - cd4[\"date_\"]).dt.days)\n",
    "# Sort by date difference column to grab first cd4_count\n",
    "cd4 = cd4.sort_values(by = [\"id\", \"date_difference\"])\n",
    "# 60/120 with CD4\n",
    "cd4_to_merge = cd4.groupby(\"id\")[[\"cd4_\", \"date_\"]].first().reset_index().rename(columns = {\"cd4_\":\"cd4_final\"})\n",
    "#print(cd4_to_merge.shape)\n",
    "# Dropping those who do not have cd4 count (None dropped)\n",
    "cd4_to_merge = cd4_to_merge.dropna(subset = [\"cd4_final\"])\n",
    "# Dropping those who have default value (None dropped)\n",
    "cd4_to_merge = cd4_to_merge[(cd4_to_merge[\"cd4_final\"] != 9999) & (cd4_to_merge[\"cd4_final\"] != 8888)]\n",
    "\n",
    "# Add to data\n",
    "data = data.merge(cd4_to_merge, how = \"left\", on = \"id\")\n"
   ]
  },
  {
   "cell_type": "code",
   "execution_count": 8,
   "metadata": {},
   "outputs": [],
   "source": [
    "# Excluding patient because no radiation start date or pathology date\n",
    "data = data[data[\"id\"] != \"LM188\"]"
   ]
  },
  {
   "cell_type": "code",
   "execution_count": 9,
   "metadata": {},
   "outputs": [],
   "source": [
    "# Add vl closest to radiation start date\n",
    "\n",
    "vl = data[data[\"hiv_status\"] == 1][[\"id\", \"date_radiation_begins\", \"date_histology\", \"VL_1\", \"date_1_vl\", \"vl_2\", \"date_2_vl\", \"vl_3\", \"date_3_vl\",\n",
    "               \"vl_4\", \"date_4_vl\", \"vl_5\", \"date_5_vl\", \"vl_6\", \"date_6_vl\", \"vl_7\", \"date_7_vl\",\n",
    "               \"vl_8\", \"date_8_vl\", \"vl_9\", \"date_9_vl\", \"vl_10\", \"date_10_vl\", \"vl_11\", \"date_11_vl\",\n",
    "               \"vl_12\", \"date_12_vl\", \"vl_13\", \"date_13_vl\", \"vl_14\", \"date_14_vl\", \"vl_15\", \"date_15_vl\", \"vl_16\",\n",
    "               \"date_16_vl\"]]\n",
    "vl.rename(columns = {\"date_1_vl\":\"date_1\", \"date_2_vl\":\"date_2\", \"date_3_vl\":\"date_3\", \"date_4_vl\":\"date_4\",\n",
    "                      \"date_5_vl\":\"date_5\", \"date_6_vl\":\"date_6\", \"date_7_vl\":\"date_7\", \"date_8_vl\":\"date_8\",\n",
    "                      \"date_9_vl\":\"date_9\", \"date_10_vl\":\"date_10\", \"date_11_vl\":\"date_11\", \"date_12_vl\":\"date_12\",\n",
    "                      \"date_13_vl\":\"date_13\", \"date_14_vl\":\"date_14\", \"date_15_vl\":\"date_15\", \"date_16_vl\":\"date_16\"}, inplace = True)\n",
    "\n",
    "# Pivot to grab everyone vl value that is closest to the radiation start date\n",
    "vl = pd.wide_to_long(vl, [\"date_\", \"vl_\"], i = [\"id\", \"date_radiation_begins\", \"date_histology\"], j = \"key\").dropna(how = \"all\").reset_index()\n",
    "# Create column to determine which vl date is closest to the radiation start date\n",
    "vl[\"date_radiation_begins\"] = vl[\"date_radiation_begins\"].fillna(vl[\"date_histology\"])\n",
    "vl[\"date_difference\"] = abs((vl[\"date_radiation_begins\"] - vl[\"date_\"]).dt.days)\n",
    "# Sort by date difference column to grab first vl_count\n",
    "vl = vl.sort_values(by = [\"id\", \"date_difference\"])\n",
    "# 119/120 with vl\n",
    "vl_to_merge = vl.groupby(\"id\")[[\"vl_\", \"date_\"]].first().reset_index().rename(columns = {\"vl_\":\"vl_final\"})\n",
    "#print(vl_to_merge.shape)\n",
    "# Dropping those who do not have vl count (None dropped)\n",
    "vl_to_merge = vl_to_merge.dropna(subset = [\"vl_final\"])\n",
    "# Dropping those who have default value (None dropped)\n",
    "vl_to_merge = vl_to_merge[(vl_to_merge[\"vl_final\"] != 9999) & (vl_to_merge[\"vl_final\"] != 8888)]\n",
    "\n",
    "# Add to data\n",
    "data = data.merge(vl_to_merge, how = \"left\", on = \"id\")\n"
   ]
  },
  {
   "cell_type": "code",
   "execution_count": 11,
   "metadata": {},
   "outputs": [],
   "source": [
    "data[\"surgery\"] = 0"
   ]
  },
  {
   "cell_type": "code",
   "execution_count": 12,
   "metadata": {},
   "outputs": [],
   "source": [
    "# Grab columns used in analysis\n",
    "# Added notes:\n",
    "## No final cancer stage captured in this data... Not needed for analysis\n",
    "### Grabbing initial cancer stage and renaming to match combined cancer stage in large data\n",
    "data = data[[\"id\", \"hiv_status\", \"age\", \"xmarital\", \"distance\", \"_2_have_you_been_screened_for_c\",\n",
    "                               \"stage\", \"xstage\", \"vaginal_hemorrhage\", \"vaginal_discharge\", \"pelvic_pain\",\n",
    "                               \"cr_1st\", \"hb_1st\", \"neut_1st\", \"wbc_1st\", \"performance_baseline\", \"cd4_final\", \"vl_final\",\n",
    "                               \"on_arv\", \"No_chemo_cycles\", \"Total_received_ebrtfinal\", \"Total_received_Brachyfinal\",\n",
    "                               \"EQD2Dosefinal\", \"Total_received_boostfinal\", \"tx_duration\", \"tumorresponse\", \n",
    "                               \"vital_status\", \"death_followup\", \"date_radiation_begins\", \"combivir\", \"neviripine\",\n",
    "                               \"efavirenz\", \"truvada\", \"aluvia\", \"abacavir\", \"lamivuidine\", \"Stavudine\", \"on_tdf\",\n",
    "                               \"cr_max_during_chemo\", \"hb_min_during_chemo\", \"wbc_min_during_chemo\", \"neut_min_during_chemo\", \"xmax_pelvic_pain\", \n",
    "                               \"xmax_vaginal_discharge\", \"xmax_fatigue\", \"xmax_weight_loss\", \n",
    "                               \"xmax_nausea\", \"xmax_vomiting\", \"xmax_urinary_frequency\", \"xmax_urinary_incontinence\",\n",
    "                               \"xmax_urinary_urgency\", \"xmax_diarrhoea\", \"xmax_dermatitis_radiation\", \"surgery\", \"date_histology\"]]\n",
    "\n",
    "# Rename columns to match large data\n",
    "# Not renaming if they match already: hiv_status, distance, vaginal_hemorrhage, vaginal_discharge,\n",
    "# pelvic_pain, cd4_final, vl_final, on_arv, vital_status, combivir, efavirenz, truvada, aluvia,\n",
    "# abacavir, surgery\n",
    "\n",
    "data.rename(columns = {\"id\":\"patient_id\", \"age\":\"enroll_age\", \"xmarital\":\"marital\", \"_2_have_you_been_screened_for_c\":\"cancer_screening\",\n",
    "                                \"stage\":\"init_cancer_stage_exact\", \"xstage\":\"combined_cancer_stage\", \"cr_1st\":\"cr_result\", \"hb_1st\":\"hb_result\", \n",
    "                                \"neut_1st\":\"neut_result\", \"wbc_1st\":\"wbc_result\", \"performance_baseline\":\"init_performance_status\",\n",
    "                                \"No_chemo_cycles\":\"total_chemo_received\", \"Total_received_ebrtfinal\":\"ebrt_curr_dose\", \n",
    "                                \"Total_received_Brachyfinal\":\"brachy_curr_dose\", \"EQD2Dosefinal\":\"eqd2\", 'Total_received_boostfinal':'ebrt_boost_curr_dose',\n",
    "                                \"tx_duration\":\"treat_duration\", \"tumorresponse\":\"treat_response\", \"death_followup\":\"death_date\", \n",
    "                                \"date_radiation_begins\":\"treat_start_date\", \"neviripine\":\"nevirapine\", \"lamivuidine\":\"lamivudine\",\n",
    "                                \"Stavudine\":\"stavudine\", \"on_tdf\":\"tdf\", \"cr_max_during_chemo\":\"cr_result_tox\", \"hb_min_during_chemo\":\"hb_min_result_tox\", \n",
    "                                \"wbc_min_during_chemo\":\"wbc_min_result_tox\", \"neut_min_during_chemo\":\"neut_min_result_tox\",\n",
    "                                \"xmax_pelvic_pain\":\"pelvic_pain_tox\", \"xmax_vaginal_discharge\":\"vaginal_discharge_tox\", \"xmax_fatigue\":\"fatigue_tox\",\n",
    "                                \"xmax_weight_loss\":\"weight_loss_tox\", \"xmax_nausea\":\"nausea_tox\", \"xmax_vomiting\":\"vomiting_tox\", \n",
    "                                \"xmax_urinary_frequency\":\"urine_freq_tox\", \"xmax_urinary_incontinence\":\"urine_incontinence_tox\",\n",
    "                                \"xmax_urinary_urgency\":\"urine_urge_tox\", \"xmax_diarrhoea\":\"diarrhea_tox\", \"xmax_dermatitis_radiation\":\"dermatitis_tox\",\n",
    "                                \"date_histology\":\"pathology_date\"}, inplace = True)\n",
    "\n",
    "# Transforming to match units of large data \n",
    "# Ex. 50 --> 5,000\n",
    "data[\"ebrt_curr_dose\"] = data[\"ebrt_curr_dose\"]*100\n",
    "# Ex. 50 --> 5,000\n",
    "data[\"brachy_curr_dose\"] = data[\"brachy_curr_dose\"]*100\n",
    "\n",
    "# Transforming factored variable to binary\n",
    "# Alive --> 0, Dead --> 1\n",
    "data.loc[(data[\"vital_status\"] == \"Alive\") |\n",
    "         (data[\"vital_status\"] == \"Alive \"), \"vital_status\"] = 0\n",
    "data.loc[data[\"vital_status\"] == \"Dead\", \"vital_status\"] = 1\n",
    "\n",
    "# In this data, combined_cancer_stage_exact is the same as init_cancer_stage_exact\n",
    "data[\"combined_cancer_stage_exact\"] = data[\"init_cancer_stage_exact\"]"
   ]
  },
  {
   "cell_type": "code",
   "execution_count": 13,
   "metadata": {},
   "outputs": [],
   "source": [
    "data.to_csv(\"small_data.csv\", index = False)"
   ]
  },
  {
   "cell_type": "markdown",
   "metadata": {},
   "source": [
    "# End"
   ]
  }
 ],
 "metadata": {
  "kernelspec": {
   "display_name": "Python 3",
   "language": "python",
   "name": "python3"
  },
  "language_info": {
   "codemirror_mode": {
    "name": "ipython",
    "version": 3
   },
   "file_extension": ".py",
   "mimetype": "text/x-python",
   "name": "python",
   "nbconvert_exporter": "python",
   "pygments_lexer": "ipython3",
   "version": "3.8.0"
  }
 },
 "nbformat": 4,
 "nbformat_minor": 5
}
