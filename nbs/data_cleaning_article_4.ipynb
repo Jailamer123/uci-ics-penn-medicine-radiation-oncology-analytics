{
  "nbformat": 4,
  "nbformat_minor": 5,
  "metadata": {
    "kernelspec": {
      "display_name": "Python 3",
      "language": "python",
      "name": "python3"
    },
    "language_info": {
      "codemirror_mode": {
        "name": "ipython",
        "version": 3
      },
      "file_extension": ".py",
      "mimetype": "text/x-python",
      "name": "python",
      "nbconvert_exporter": "python",
      "pygments_lexer": "ipython3",
      "version": "3.7.0"
    },
    "colab": {
      "name": "data-cleaning-article-4.ipynb",
      "provenance": [],
      "toc_visible": true
    }
  },
  "cells": [
    {
      "cell_type": "code",
      "metadata": {
        "id": "right-buddy"
      },
      "source": [
        "import warnings\n",
        "import csv\n",
        "import pandas as pd\n",
        "import numpy as np"
      ],
      "id": "right-buddy",
      "execution_count": 1,
      "outputs": []
    },
    {
      "cell_type": "code",
      "metadata": {
        "id": "trying-jumping"
      },
      "source": [
        "warnings.filterwarnings('ignore')"
      ],
      "id": "trying-jumping",
      "execution_count": 2,
      "outputs": []
    },
    {
      "cell_type": "markdown",
      "metadata": {
        "id": "bridal-steps"
      },
      "source": [
        "Read excel and drop the empty columns"
      ],
      "id": "bridal-steps"
    },
    {
      "cell_type": "code",
      "metadata": {
        "id": "chemical-opportunity",
        "colab": {
          "base_uri": "https://localhost:8080/",
          "height": 855
        },
        "outputId": "97593489-c00e-4a08-8ea6-0a960fb3ef60"
      },
      "source": [
        "df = pd.read_excel('NAC LIST 2021 2 Year Follow Up Status.xlsx', sheet_name = 'Sheet2')\n",
        "df = df.dropna(axis = 1, how = 'all') \n",
        "df"
      ],
      "id": "chemical-opportunity",
      "execution_count": 3,
      "outputs": [
        {
          "output_type": "execute_result",
          "data": {
            "text/html": [
              "<div>\n",
              "<style scoped>\n",
              "    .dataframe tbody tr th:only-of-type {\n",
              "        vertical-align: middle;\n",
              "    }\n",
              "\n",
              "    .dataframe tbody tr th {\n",
              "        vertical-align: top;\n",
              "    }\n",
              "\n",
              "    .dataframe thead th {\n",
              "        text-align: right;\n",
              "    }\n",
              "</style>\n",
              "<table border=\"1\" class=\"dataframe\">\n",
              "  <thead>\n",
              "    <tr style=\"text-align: right;\">\n",
              "      <th></th>\n",
              "      <th>Study ID</th>\n",
              "      <th>Age</th>\n",
              "      <th>Diagnosis</th>\n",
              "      <th>Stage</th>\n",
              "      <th>Bx date DD/MM/YYYY</th>\n",
              "      <th>Last Follow up date or date of death of died</th>\n",
              "      <th>Vital Status</th>\n",
              "      <th>HIV status</th>\n",
              "      <th>CD4 at cancer dignosis</th>\n",
              "      <th>VL at cancer diangosis</th>\n",
              "      <th>Dose of chemo</th>\n",
              "      <th>Cycles of chemo</th>\n",
              "      <th>Chemo regimen</th>\n",
              "      <th>Path response at surgery</th>\n",
              "      <th>Unnamed: 15</th>\n",
              "      <th>Unnamed: 16</th>\n",
              "    </tr>\n",
              "  </thead>\n",
              "  <tbody>\n",
              "    <tr>\n",
              "      <th>0</th>\n",
              "      <td>5285</td>\n",
              "      <td>33</td>\n",
              "      <td>CACX</td>\n",
              "      <td>IB1</td>\n",
              "      <td>19-01-2017</td>\n",
              "      <td>24-07-2020</td>\n",
              "      <td>Dead</td>\n",
              "      <td>Negative</td>\n",
              "      <td>NaN</td>\n",
              "      <td>NaN</td>\n",
              "      <td>230mg</td>\n",
              "      <td>3</td>\n",
              "      <td>Carbo/paclitaxol</td>\n",
              "      <td>No surgery, CRT</td>\n",
              "      <td>NaN</td>\n",
              "      <td>NaN</td>\n",
              "    </tr>\n",
              "    <tr>\n",
              "      <th>1</th>\n",
              "      <td>5290</td>\n",
              "      <td>42</td>\n",
              "      <td>CACX</td>\n",
              "      <td>IB1</td>\n",
              "      <td>2016-06-05 00:00:00</td>\n",
              "      <td>17-03-2021</td>\n",
              "      <td>Alive</td>\n",
              "      <td>Negative</td>\n",
              "      <td>NaN</td>\n",
              "      <td>NaN</td>\n",
              "      <td>90mg</td>\n",
              "      <td>3</td>\n",
              "      <td>Cisplatin/paclitaxel</td>\n",
              "      <td>TAH/BSO but no path in IPMS</td>\n",
              "      <td>CR</td>\n",
              "      <td>No nodes</td>\n",
              "    </tr>\n",
              "    <tr>\n",
              "      <th>2</th>\n",
              "      <td>5373</td>\n",
              "      <td>53</td>\n",
              "      <td>CACX</td>\n",
              "      <td>IB1</td>\n",
              "      <td>2017-04-04 00:00:00</td>\n",
              "      <td>2021-03-08 00:00:00</td>\n",
              "      <td>Alive</td>\n",
              "      <td>Positive</td>\n",
              "      <td>505 L</td>\n",
              "      <td>&lt;400</td>\n",
              "      <td>350mg</td>\n",
              "      <td>3</td>\n",
              "      <td>carbo/paclitaxel</td>\n",
              "      <td>TAH/BSO CIN 3 Clear margins (17:PS003853R)</td>\n",
              "      <td>CR</td>\n",
              "      <td>No nodes</td>\n",
              "    </tr>\n",
              "    <tr>\n",
              "      <th>3</th>\n",
              "      <td>5397</td>\n",
              "      <td>58</td>\n",
              "      <td>CACX</td>\n",
              "      <td>IA2</td>\n",
              "      <td>2017-05-09 00:00:00</td>\n",
              "      <td>18-11-2017</td>\n",
              "      <td>Dead</td>\n",
              "      <td>Positive</td>\n",
              "      <td>376 L</td>\n",
              "      <td>&lt;400</td>\n",
              "      <td>290mg</td>\n",
              "      <td>3</td>\n",
              "      <td>Carbo/paclitaxol</td>\n",
              "      <td>Right/left pelvic lymph node:Reactive hypeplas...</td>\n",
              "      <td>CR</td>\n",
              "      <td>No nodes</td>\n",
              "    </tr>\n",
              "    <tr>\n",
              "      <th>4</th>\n",
              "      <td>5525</td>\n",
              "      <td>48</td>\n",
              "      <td>CACX</td>\n",
              "      <td>IB1</td>\n",
              "      <td>2017-04-09 00:00:00</td>\n",
              "      <td>2021-02-17 00:00:00</td>\n",
              "      <td>Alive</td>\n",
              "      <td>Positive</td>\n",
              "      <td>371 L</td>\n",
              "      <td>&lt;400</td>\n",
              "      <td>30mg</td>\n",
              "      <td>2</td>\n",
              "      <td>neupogen</td>\n",
              "      <td>Surgery at GPH so no path  result in ipms</td>\n",
              "      <td>IB1-IA2</td>\n",
              "      <td>No nodes</td>\n",
              "    </tr>\n",
              "    <tr>\n",
              "      <th>5</th>\n",
              "      <td>6144</td>\n",
              "      <td>59</td>\n",
              "      <td>CACX</td>\n",
              "      <td>IB1</td>\n",
              "      <td>2017-07-07 00:00:00</td>\n",
              "      <td>2021-03-08 00:00:00</td>\n",
              "      <td>Alive</td>\n",
              "      <td>Positive</td>\n",
              "      <td>127 *L</td>\n",
              "      <td>&lt;400</td>\n",
              "      <td>60mg</td>\n",
              "      <td>2</td>\n",
              "      <td>cisplatin at GPH</td>\n",
              "      <td>No surgery (U54) CRT</td>\n",
              "      <td>NaN</td>\n",
              "      <td>NaN</td>\n",
              "    </tr>\n",
              "    <tr>\n",
              "      <th>6</th>\n",
              "      <td>5508</td>\n",
              "      <td>43</td>\n",
              "      <td>CACX</td>\n",
              "      <td>IB2</td>\n",
              "      <td>28-08-2017</td>\n",
              "      <td>2021-01-13 00:00:00</td>\n",
              "      <td>Alive</td>\n",
              "      <td>Positive</td>\n",
              "      <td>481 L</td>\n",
              "      <td>&lt;400</td>\n",
              "      <td>660mg</td>\n",
              "      <td>3</td>\n",
              "      <td>Carboplatin/Doce</td>\n",
              "      <td>No result in IPMS but she did TAH at SLH</td>\n",
              "      <td>IB2-IA1</td>\n",
              "      <td>No nodes</td>\n",
              "    </tr>\n",
              "    <tr>\n",
              "      <th>7</th>\n",
              "      <td>5302</td>\n",
              "      <td>47</td>\n",
              "      <td>CACX</td>\n",
              "      <td>IB1</td>\n",
              "      <td>2017-01-09 00:00:00</td>\n",
              "      <td>2021-03-08 00:00:00</td>\n",
              "      <td>Alive</td>\n",
              "      <td>Positive</td>\n",
              "      <td>31 *L</td>\n",
              "      <td>&lt;400</td>\n",
              "      <td>790mg</td>\n",
              "      <td>3</td>\n",
              "      <td>Carboplatin/Doce</td>\n",
              "      <td>She did TAH at GPH</td>\n",
              "      <td>IB1-IA2</td>\n",
              "      <td>No nodes</td>\n",
              "    </tr>\n",
              "    <tr>\n",
              "      <th>8</th>\n",
              "      <td>5615</td>\n",
              "      <td>63</td>\n",
              "      <td>CACX</td>\n",
              "      <td>IB1</td>\n",
              "      <td>27-11-2017</td>\n",
              "      <td>2021-03-09 00:00:00</td>\n",
              "      <td>Alive</td>\n",
              "      <td>Negative</td>\n",
              "      <td>NaN</td>\n",
              "      <td>NaN</td>\n",
              "      <td>None</td>\n",
              "      <td>0</td>\n",
              "      <td>NaN</td>\n",
              "      <td>No result in IPMS</td>\n",
              "      <td>IB1</td>\n",
              "      <td>No nodes</td>\n",
              "    </tr>\n",
              "    <tr>\n",
              "      <th>9</th>\n",
              "      <td>5745</td>\n",
              "      <td>52</td>\n",
              "      <td>CACX</td>\n",
              "      <td>IB1</td>\n",
              "      <td>28-06-2018</td>\n",
              "      <td>2021-02-17 00:00:00</td>\n",
              "      <td>Alive</td>\n",
              "      <td>Positive</td>\n",
              "      <td>None in ipms</td>\n",
              "      <td>None in ipms</td>\n",
              "      <td>unknown</td>\n",
              "      <td>3</td>\n",
              "      <td>pt not in the 2018 register</td>\n",
              "      <td>NSurgery at GPH. No result in ipms</td>\n",
              "      <td>NaN</td>\n",
              "      <td>NaN</td>\n",
              "    </tr>\n",
              "  </tbody>\n",
              "</table>\n",
              "</div>"
            ],
            "text/plain": [
              "   Study ID  Age  ... Unnamed: 15 Unnamed: 16\n",
              "0      5285   33  ...         NaN         NaN\n",
              "1      5290   42  ...          CR    No nodes\n",
              "2      5373   53  ...          CR    No nodes\n",
              "3      5397   58  ...          CR    No nodes\n",
              "4      5525   48  ...     IB1-IA2    No nodes\n",
              "5      6144   59  ...         NaN         NaN\n",
              "6      5508   43  ...     IB2-IA1    No nodes\n",
              "7      5302   47  ...     IB1-IA2    No nodes\n",
              "8      5615   63  ...        IB1     No nodes\n",
              "9      5745   52  ...         NaN         NaN\n",
              "\n",
              "[10 rows x 16 columns]"
            ]
          },
          "metadata": {
            "tags": []
          },
          "execution_count": 3
        }
      ]
    },
    {
      "cell_type": "code",
      "metadata": {
        "id": "juvenile-cause",
        "colab": {
          "base_uri": "https://localhost:8080/"
        },
        "outputId": "06dcf5e7-7bb0-49ee-ec88-59bba08f544c"
      },
      "source": [
        "df.columns.values"
      ],
      "id": "juvenile-cause",
      "execution_count": 4,
      "outputs": [
        {
          "output_type": "execute_result",
          "data": {
            "text/plain": [
              "array(['Study ID', 'Age', 'Diagnosis', 'Stage', 'Bx date DD/MM/YYYY',\n",
              "       'Last Follow up date or date of death of died', 'Vital Status ',\n",
              "       'HIV status ', 'CD4 at cancer dignosis ',\n",
              "       'VL at cancer diangosis ', 'Dose of chemo', 'Cycles of chemo',\n",
              "       'Chemo regimen ', 'Path response at surgery ', 'Unnamed: 15',\n",
              "       'Unnamed: 16'], dtype=object)"
            ]
          },
          "metadata": {
            "tags": []
          },
          "execution_count": 4
        }
      ]
    },
    {
      "cell_type": "markdown",
      "metadata": {
        "id": "objective-steam"
      },
      "source": [
        "Fix spelling errors in columns headers"
      ],
      "id": "objective-steam"
    },
    {
      "cell_type": "code",
      "metadata": {
        "id": "suburban-smith",
        "colab": {
          "base_uri": "https://localhost:8080/",
          "height": 855
        },
        "outputId": "82ceab1e-8dc9-457f-bfcf-b858400bd776"
      },
      "source": [
        "df['HIV status'] = df['HIV status ']\n",
        "df['Vital status'] = df['Vital Status ']\n",
        "df['VL at cancer diagnosis'] = df['VL at cancer diangosis ']\n",
        "df['CD4 at cancer diagnosis'] = df['CD4 at cancer dignosis ']\n",
        "df['Chemo regimen'] = df['Chemo regimen ']\n",
        "df['Path response at surgery'] = df['Path response at surgery ']\n",
        "df = df.drop(columns = ['HIV status ', 'Vital Status ', 'VL at cancer diangosis ', 'CD4 at cancer dignosis ', 'Chemo regimen ', 'Path response at surgery '])\n",
        "df"
      ],
      "id": "suburban-smith",
      "execution_count": 5,
      "outputs": [
        {
          "output_type": "execute_result",
          "data": {
            "text/html": [
              "<div>\n",
              "<style scoped>\n",
              "    .dataframe tbody tr th:only-of-type {\n",
              "        vertical-align: middle;\n",
              "    }\n",
              "\n",
              "    .dataframe tbody tr th {\n",
              "        vertical-align: top;\n",
              "    }\n",
              "\n",
              "    .dataframe thead th {\n",
              "        text-align: right;\n",
              "    }\n",
              "</style>\n",
              "<table border=\"1\" class=\"dataframe\">\n",
              "  <thead>\n",
              "    <tr style=\"text-align: right;\">\n",
              "      <th></th>\n",
              "      <th>Study ID</th>\n",
              "      <th>Age</th>\n",
              "      <th>Diagnosis</th>\n",
              "      <th>Stage</th>\n",
              "      <th>Bx date DD/MM/YYYY</th>\n",
              "      <th>Last Follow up date or date of death of died</th>\n",
              "      <th>Dose of chemo</th>\n",
              "      <th>Cycles of chemo</th>\n",
              "      <th>Unnamed: 15</th>\n",
              "      <th>Unnamed: 16</th>\n",
              "      <th>HIV status</th>\n",
              "      <th>Vital status</th>\n",
              "      <th>VL at cancer diagnosis</th>\n",
              "      <th>CD4 at cancer diagnosis</th>\n",
              "      <th>Chemo regimen</th>\n",
              "      <th>Path response at surgery</th>\n",
              "    </tr>\n",
              "  </thead>\n",
              "  <tbody>\n",
              "    <tr>\n",
              "      <th>0</th>\n",
              "      <td>5285</td>\n",
              "      <td>33</td>\n",
              "      <td>CACX</td>\n",
              "      <td>IB1</td>\n",
              "      <td>19-01-2017</td>\n",
              "      <td>24-07-2020</td>\n",
              "      <td>230mg</td>\n",
              "      <td>3</td>\n",
              "      <td>NaN</td>\n",
              "      <td>NaN</td>\n",
              "      <td>Negative</td>\n",
              "      <td>Dead</td>\n",
              "      <td>NaN</td>\n",
              "      <td>NaN</td>\n",
              "      <td>Carbo/paclitaxol</td>\n",
              "      <td>No surgery, CRT</td>\n",
              "    </tr>\n",
              "    <tr>\n",
              "      <th>1</th>\n",
              "      <td>5290</td>\n",
              "      <td>42</td>\n",
              "      <td>CACX</td>\n",
              "      <td>IB1</td>\n",
              "      <td>2016-06-05 00:00:00</td>\n",
              "      <td>17-03-2021</td>\n",
              "      <td>90mg</td>\n",
              "      <td>3</td>\n",
              "      <td>CR</td>\n",
              "      <td>No nodes</td>\n",
              "      <td>Negative</td>\n",
              "      <td>Alive</td>\n",
              "      <td>NaN</td>\n",
              "      <td>NaN</td>\n",
              "      <td>Cisplatin/paclitaxel</td>\n",
              "      <td>TAH/BSO but no path in IPMS</td>\n",
              "    </tr>\n",
              "    <tr>\n",
              "      <th>2</th>\n",
              "      <td>5373</td>\n",
              "      <td>53</td>\n",
              "      <td>CACX</td>\n",
              "      <td>IB1</td>\n",
              "      <td>2017-04-04 00:00:00</td>\n",
              "      <td>2021-03-08 00:00:00</td>\n",
              "      <td>350mg</td>\n",
              "      <td>3</td>\n",
              "      <td>CR</td>\n",
              "      <td>No nodes</td>\n",
              "      <td>Positive</td>\n",
              "      <td>Alive</td>\n",
              "      <td>&lt;400</td>\n",
              "      <td>505 L</td>\n",
              "      <td>carbo/paclitaxel</td>\n",
              "      <td>TAH/BSO CIN 3 Clear margins (17:PS003853R)</td>\n",
              "    </tr>\n",
              "    <tr>\n",
              "      <th>3</th>\n",
              "      <td>5397</td>\n",
              "      <td>58</td>\n",
              "      <td>CACX</td>\n",
              "      <td>IA2</td>\n",
              "      <td>2017-05-09 00:00:00</td>\n",
              "      <td>18-11-2017</td>\n",
              "      <td>290mg</td>\n",
              "      <td>3</td>\n",
              "      <td>CR</td>\n",
              "      <td>No nodes</td>\n",
              "      <td>Positive</td>\n",
              "      <td>Dead</td>\n",
              "      <td>&lt;400</td>\n",
              "      <td>376 L</td>\n",
              "      <td>Carbo/paclitaxol</td>\n",
              "      <td>Right/left pelvic lymph node:Reactive hypeplas...</td>\n",
              "    </tr>\n",
              "    <tr>\n",
              "      <th>4</th>\n",
              "      <td>5525</td>\n",
              "      <td>48</td>\n",
              "      <td>CACX</td>\n",
              "      <td>IB1</td>\n",
              "      <td>2017-04-09 00:00:00</td>\n",
              "      <td>2021-02-17 00:00:00</td>\n",
              "      <td>30mg</td>\n",
              "      <td>2</td>\n",
              "      <td>IB1-IA2</td>\n",
              "      <td>No nodes</td>\n",
              "      <td>Positive</td>\n",
              "      <td>Alive</td>\n",
              "      <td>&lt;400</td>\n",
              "      <td>371 L</td>\n",
              "      <td>neupogen</td>\n",
              "      <td>Surgery at GPH so no path  result in ipms</td>\n",
              "    </tr>\n",
              "    <tr>\n",
              "      <th>5</th>\n",
              "      <td>6144</td>\n",
              "      <td>59</td>\n",
              "      <td>CACX</td>\n",
              "      <td>IB1</td>\n",
              "      <td>2017-07-07 00:00:00</td>\n",
              "      <td>2021-03-08 00:00:00</td>\n",
              "      <td>60mg</td>\n",
              "      <td>2</td>\n",
              "      <td>NaN</td>\n",
              "      <td>NaN</td>\n",
              "      <td>Positive</td>\n",
              "      <td>Alive</td>\n",
              "      <td>&lt;400</td>\n",
              "      <td>127 *L</td>\n",
              "      <td>cisplatin at GPH</td>\n",
              "      <td>No surgery (U54) CRT</td>\n",
              "    </tr>\n",
              "    <tr>\n",
              "      <th>6</th>\n",
              "      <td>5508</td>\n",
              "      <td>43</td>\n",
              "      <td>CACX</td>\n",
              "      <td>IB2</td>\n",
              "      <td>28-08-2017</td>\n",
              "      <td>2021-01-13 00:00:00</td>\n",
              "      <td>660mg</td>\n",
              "      <td>3</td>\n",
              "      <td>IB2-IA1</td>\n",
              "      <td>No nodes</td>\n",
              "      <td>Positive</td>\n",
              "      <td>Alive</td>\n",
              "      <td>&lt;400</td>\n",
              "      <td>481 L</td>\n",
              "      <td>Carboplatin/Doce</td>\n",
              "      <td>No result in IPMS but she did TAH at SLH</td>\n",
              "    </tr>\n",
              "    <tr>\n",
              "      <th>7</th>\n",
              "      <td>5302</td>\n",
              "      <td>47</td>\n",
              "      <td>CACX</td>\n",
              "      <td>IB1</td>\n",
              "      <td>2017-01-09 00:00:00</td>\n",
              "      <td>2021-03-08 00:00:00</td>\n",
              "      <td>790mg</td>\n",
              "      <td>3</td>\n",
              "      <td>IB1-IA2</td>\n",
              "      <td>No nodes</td>\n",
              "      <td>Positive</td>\n",
              "      <td>Alive</td>\n",
              "      <td>&lt;400</td>\n",
              "      <td>31 *L</td>\n",
              "      <td>Carboplatin/Doce</td>\n",
              "      <td>She did TAH at GPH</td>\n",
              "    </tr>\n",
              "    <tr>\n",
              "      <th>8</th>\n",
              "      <td>5615</td>\n",
              "      <td>63</td>\n",
              "      <td>CACX</td>\n",
              "      <td>IB1</td>\n",
              "      <td>27-11-2017</td>\n",
              "      <td>2021-03-09 00:00:00</td>\n",
              "      <td>None</td>\n",
              "      <td>0</td>\n",
              "      <td>IB1</td>\n",
              "      <td>No nodes</td>\n",
              "      <td>Negative</td>\n",
              "      <td>Alive</td>\n",
              "      <td>NaN</td>\n",
              "      <td>NaN</td>\n",
              "      <td>NaN</td>\n",
              "      <td>No result in IPMS</td>\n",
              "    </tr>\n",
              "    <tr>\n",
              "      <th>9</th>\n",
              "      <td>5745</td>\n",
              "      <td>52</td>\n",
              "      <td>CACX</td>\n",
              "      <td>IB1</td>\n",
              "      <td>28-06-2018</td>\n",
              "      <td>2021-02-17 00:00:00</td>\n",
              "      <td>unknown</td>\n",
              "      <td>3</td>\n",
              "      <td>NaN</td>\n",
              "      <td>NaN</td>\n",
              "      <td>Positive</td>\n",
              "      <td>Alive</td>\n",
              "      <td>None in ipms</td>\n",
              "      <td>None in ipms</td>\n",
              "      <td>pt not in the 2018 register</td>\n",
              "      <td>NSurgery at GPH. No result in ipms</td>\n",
              "    </tr>\n",
              "  </tbody>\n",
              "</table>\n",
              "</div>"
            ],
            "text/plain": [
              "   Study ID  ...                           Path response at surgery\n",
              "0      5285  ...                                    No surgery, CRT\n",
              "1      5290  ...                        TAH/BSO but no path in IPMS\n",
              "2      5373  ...         TAH/BSO CIN 3 Clear margins (17:PS003853R)\n",
              "3      5397  ...  Right/left pelvic lymph node:Reactive hypeplas...\n",
              "4      5525  ...          Surgery at GPH so no path  result in ipms\n",
              "5      6144  ...                               No surgery (U54) CRT\n",
              "6      5508  ...           No result in IPMS but she did TAH at SLH\n",
              "7      5302  ...                                 She did TAH at GPH\n",
              "8      5615  ...                                 No result in IPMS \n",
              "9      5745  ...                 NSurgery at GPH. No result in ipms\n",
              "\n",
              "[10 rows x 16 columns]"
            ]
          },
          "metadata": {
            "tags": []
          },
          "execution_count": 5
        }
      ]
    },
    {
      "cell_type": "markdown",
      "metadata": {
        "id": "portable-packing"
      },
      "source": [
        "Present outcomes with this treatment protocol:\n",
        "    - Age\n",
        "    - Marital \n",
        "    - Chemo and surgery\n",
        "    - Treatment response\n",
        "    - Followup time\n",
        "    - Vital status\n",
        "    - HIV status\n",
        "    - CD4 at cancer diagnosis\n",
        "    - VL at cancer diagnosis"
      ],
      "id": "portable-packing"
    },
    {
      "cell_type": "code",
      "metadata": {
        "id": "tested-healing",
        "colab": {
          "base_uri": "https://localhost:8080/",
          "height": 410
        },
        "outputId": "4ff52d08-1624-438a-8429-0f633b51933a"
      },
      "source": [
        "# Do we need diagnosis? \n",
        "data = df[['Study ID', 'Vital status', 'HIV status', 'Age', 'Stage', 'Last Follow up date or date of death of died', 'VL at cancer diagnosis', 'CD4 at cancer diagnosis', 'Chemo regimen', 'Dose of chemo', 'Cycles of chemo']]\n",
        "data"
      ],
      "id": "tested-healing",
      "execution_count": 6,
      "outputs": [
        {
          "output_type": "execute_result",
          "data": {
            "text/html": [
              "<div>\n",
              "<style scoped>\n",
              "    .dataframe tbody tr th:only-of-type {\n",
              "        vertical-align: middle;\n",
              "    }\n",
              "\n",
              "    .dataframe tbody tr th {\n",
              "        vertical-align: top;\n",
              "    }\n",
              "\n",
              "    .dataframe thead th {\n",
              "        text-align: right;\n",
              "    }\n",
              "</style>\n",
              "<table border=\"1\" class=\"dataframe\">\n",
              "  <thead>\n",
              "    <tr style=\"text-align: right;\">\n",
              "      <th></th>\n",
              "      <th>Study ID</th>\n",
              "      <th>Vital status</th>\n",
              "      <th>HIV status</th>\n",
              "      <th>Age</th>\n",
              "      <th>Stage</th>\n",
              "      <th>Last Follow up date or date of death of died</th>\n",
              "      <th>VL at cancer diagnosis</th>\n",
              "      <th>CD4 at cancer diagnosis</th>\n",
              "      <th>Chemo regimen</th>\n",
              "      <th>Dose of chemo</th>\n",
              "      <th>Cycles of chemo</th>\n",
              "    </tr>\n",
              "  </thead>\n",
              "  <tbody>\n",
              "    <tr>\n",
              "      <th>0</th>\n",
              "      <td>5285</td>\n",
              "      <td>Dead</td>\n",
              "      <td>Negative</td>\n",
              "      <td>33</td>\n",
              "      <td>IB1</td>\n",
              "      <td>24-07-2020</td>\n",
              "      <td>NaN</td>\n",
              "      <td>NaN</td>\n",
              "      <td>Carbo/paclitaxol</td>\n",
              "      <td>230mg</td>\n",
              "      <td>3</td>\n",
              "    </tr>\n",
              "    <tr>\n",
              "      <th>1</th>\n",
              "      <td>5290</td>\n",
              "      <td>Alive</td>\n",
              "      <td>Negative</td>\n",
              "      <td>42</td>\n",
              "      <td>IB1</td>\n",
              "      <td>17-03-2021</td>\n",
              "      <td>NaN</td>\n",
              "      <td>NaN</td>\n",
              "      <td>Cisplatin/paclitaxel</td>\n",
              "      <td>90mg</td>\n",
              "      <td>3</td>\n",
              "    </tr>\n",
              "    <tr>\n",
              "      <th>2</th>\n",
              "      <td>5373</td>\n",
              "      <td>Alive</td>\n",
              "      <td>Positive</td>\n",
              "      <td>53</td>\n",
              "      <td>IB1</td>\n",
              "      <td>2021-03-08 00:00:00</td>\n",
              "      <td>&lt;400</td>\n",
              "      <td>505 L</td>\n",
              "      <td>carbo/paclitaxel</td>\n",
              "      <td>350mg</td>\n",
              "      <td>3</td>\n",
              "    </tr>\n",
              "    <tr>\n",
              "      <th>3</th>\n",
              "      <td>5397</td>\n",
              "      <td>Dead</td>\n",
              "      <td>Positive</td>\n",
              "      <td>58</td>\n",
              "      <td>IA2</td>\n",
              "      <td>18-11-2017</td>\n",
              "      <td>&lt;400</td>\n",
              "      <td>376 L</td>\n",
              "      <td>Carbo/paclitaxol</td>\n",
              "      <td>290mg</td>\n",
              "      <td>3</td>\n",
              "    </tr>\n",
              "    <tr>\n",
              "      <th>4</th>\n",
              "      <td>5525</td>\n",
              "      <td>Alive</td>\n",
              "      <td>Positive</td>\n",
              "      <td>48</td>\n",
              "      <td>IB1</td>\n",
              "      <td>2021-02-17 00:00:00</td>\n",
              "      <td>&lt;400</td>\n",
              "      <td>371 L</td>\n",
              "      <td>neupogen</td>\n",
              "      <td>30mg</td>\n",
              "      <td>2</td>\n",
              "    </tr>\n",
              "    <tr>\n",
              "      <th>5</th>\n",
              "      <td>6144</td>\n",
              "      <td>Alive</td>\n",
              "      <td>Positive</td>\n",
              "      <td>59</td>\n",
              "      <td>IB1</td>\n",
              "      <td>2021-03-08 00:00:00</td>\n",
              "      <td>&lt;400</td>\n",
              "      <td>127 *L</td>\n",
              "      <td>cisplatin at GPH</td>\n",
              "      <td>60mg</td>\n",
              "      <td>2</td>\n",
              "    </tr>\n",
              "    <tr>\n",
              "      <th>6</th>\n",
              "      <td>5508</td>\n",
              "      <td>Alive</td>\n",
              "      <td>Positive</td>\n",
              "      <td>43</td>\n",
              "      <td>IB2</td>\n",
              "      <td>2021-01-13 00:00:00</td>\n",
              "      <td>&lt;400</td>\n",
              "      <td>481 L</td>\n",
              "      <td>Carboplatin/Doce</td>\n",
              "      <td>660mg</td>\n",
              "      <td>3</td>\n",
              "    </tr>\n",
              "    <tr>\n",
              "      <th>7</th>\n",
              "      <td>5302</td>\n",
              "      <td>Alive</td>\n",
              "      <td>Positive</td>\n",
              "      <td>47</td>\n",
              "      <td>IB1</td>\n",
              "      <td>2021-03-08 00:00:00</td>\n",
              "      <td>&lt;400</td>\n",
              "      <td>31 *L</td>\n",
              "      <td>Carboplatin/Doce</td>\n",
              "      <td>790mg</td>\n",
              "      <td>3</td>\n",
              "    </tr>\n",
              "    <tr>\n",
              "      <th>8</th>\n",
              "      <td>5615</td>\n",
              "      <td>Alive</td>\n",
              "      <td>Negative</td>\n",
              "      <td>63</td>\n",
              "      <td>IB1</td>\n",
              "      <td>2021-03-09 00:00:00</td>\n",
              "      <td>NaN</td>\n",
              "      <td>NaN</td>\n",
              "      <td>NaN</td>\n",
              "      <td>None</td>\n",
              "      <td>0</td>\n",
              "    </tr>\n",
              "    <tr>\n",
              "      <th>9</th>\n",
              "      <td>5745</td>\n",
              "      <td>Alive</td>\n",
              "      <td>Positive</td>\n",
              "      <td>52</td>\n",
              "      <td>IB1</td>\n",
              "      <td>2021-02-17 00:00:00</td>\n",
              "      <td>None in ipms</td>\n",
              "      <td>None in ipms</td>\n",
              "      <td>pt not in the 2018 register</td>\n",
              "      <td>unknown</td>\n",
              "      <td>3</td>\n",
              "    </tr>\n",
              "  </tbody>\n",
              "</table>\n",
              "</div>"
            ],
            "text/plain": [
              "   Study ID Vital status  ... Dose of chemo  Cycles of chemo\n",
              "0      5285         Dead  ...         230mg                3\n",
              "1      5290        Alive  ...          90mg                3\n",
              "2      5373        Alive  ...         350mg                3\n",
              "3      5397         Dead  ...         290mg                3\n",
              "4      5525        Alive  ...          30mg                2\n",
              "5      6144        Alive  ...          60mg                2\n",
              "6      5508        Alive  ...         660mg                3\n",
              "7      5302        Alive  ...         790mg                3\n",
              "8      5615        Alive  ...          None                0\n",
              "9      5745       Alive   ...       unknown                3\n",
              "\n",
              "[10 rows x 11 columns]"
            ]
          },
          "metadata": {
            "tags": []
          },
          "execution_count": 6
        }
      ]
    },
    {
      "cell_type": "markdown",
      "metadata": {
        "id": "beneficial-recipient"
      },
      "source": [
        "Changing categorial variables to boolean values"
      ],
      "id": "beneficial-recipient"
    },
    {
      "cell_type": "code",
      "metadata": {
        "id": "mature-imagination"
      },
      "source": [
        "# For vital status, alive is 0, dead is 1\n",
        "data.loc[df['Vital status'] == 'Dead', 'Vital status'] = 1\n",
        "data.loc[df['Vital status'] == 'Alive', 'Vital status'] = 0\n",
        "data.loc[df['Vital status'] == 'Alive ', 'Vital status'] = 0\n",
        "# for HIV status, positive is 0, negative is 1\n",
        "data.loc[df['HIV status'] == 'Negative', 'HIV status'] = 1\n",
        "data.loc[df['HIV status'] == 'Positive', 'HIV status'] = 0"
      ],
      "id": "mature-imagination",
      "execution_count": 7,
      "outputs": []
    },
    {
      "cell_type": "markdown",
      "metadata": {
        "id": "earned-circus"
      },
      "source": [
        "Changing CD4 values to floats"
      ],
      "id": "earned-circus"
    },
    {
      "cell_type": "code",
      "metadata": {
        "id": "adapted-barbados"
      },
      "source": [
        "data['CD4 at cancer diagnosis'] = data['CD4 at cancer diagnosis'].replace('None in ipms', np.nan) \n",
        "data['CD4 at cancer diagnosis'] = data['CD4 at cancer diagnosis'].str.strip(' *L').astype(float)"
      ],
      "id": "adapted-barbados",
      "execution_count": 8,
      "outputs": []
    },
    {
      "cell_type": "markdown",
      "metadata": {
        "id": "indirect-prompt"
      },
      "source": [
        "Changing VL values to boolean values"
      ],
      "id": "indirect-prompt"
    },
    {
      "cell_type": "code",
      "metadata": {
        "id": "ordered-electronics"
      },
      "source": [
        "data['VL at cancer diagnosis'] = data['VL at cancer diagnosis'].replace('None in ipms', np.nan) \n",
        "# VL of <400 is 1, NaN \n",
        "data.loc[df['VL at cancer diagnosis'] == '<400', 'VL at cancer diagnosis'] = 1"
      ],
      "id": "ordered-electronics",
      "execution_count": 9,
      "outputs": []
    },
    {
      "cell_type": "code",
      "metadata": {
        "id": "impressive-steel",
        "colab": {
          "base_uri": "https://localhost:8080/",
          "height": 410
        },
        "outputId": "6593c225-735a-4d46-dc08-a6090a9040aa"
      },
      "source": [
        "data.head(12)"
      ],
      "id": "impressive-steel",
      "execution_count": 10,
      "outputs": [
        {
          "output_type": "execute_result",
          "data": {
            "text/html": [
              "<div>\n",
              "<style scoped>\n",
              "    .dataframe tbody tr th:only-of-type {\n",
              "        vertical-align: middle;\n",
              "    }\n",
              "\n",
              "    .dataframe tbody tr th {\n",
              "        vertical-align: top;\n",
              "    }\n",
              "\n",
              "    .dataframe thead th {\n",
              "        text-align: right;\n",
              "    }\n",
              "</style>\n",
              "<table border=\"1\" class=\"dataframe\">\n",
              "  <thead>\n",
              "    <tr style=\"text-align: right;\">\n",
              "      <th></th>\n",
              "      <th>Study ID</th>\n",
              "      <th>Vital status</th>\n",
              "      <th>HIV status</th>\n",
              "      <th>Age</th>\n",
              "      <th>Stage</th>\n",
              "      <th>Last Follow up date or date of death of died</th>\n",
              "      <th>VL at cancer diagnosis</th>\n",
              "      <th>CD4 at cancer diagnosis</th>\n",
              "      <th>Chemo regimen</th>\n",
              "      <th>Dose of chemo</th>\n",
              "      <th>Cycles of chemo</th>\n",
              "    </tr>\n",
              "  </thead>\n",
              "  <tbody>\n",
              "    <tr>\n",
              "      <th>0</th>\n",
              "      <td>5285</td>\n",
              "      <td>1</td>\n",
              "      <td>1</td>\n",
              "      <td>33</td>\n",
              "      <td>IB1</td>\n",
              "      <td>24-07-2020</td>\n",
              "      <td>NaN</td>\n",
              "      <td>NaN</td>\n",
              "      <td>Carbo/paclitaxol</td>\n",
              "      <td>230mg</td>\n",
              "      <td>3</td>\n",
              "    </tr>\n",
              "    <tr>\n",
              "      <th>1</th>\n",
              "      <td>5290</td>\n",
              "      <td>0</td>\n",
              "      <td>1</td>\n",
              "      <td>42</td>\n",
              "      <td>IB1</td>\n",
              "      <td>17-03-2021</td>\n",
              "      <td>NaN</td>\n",
              "      <td>NaN</td>\n",
              "      <td>Cisplatin/paclitaxel</td>\n",
              "      <td>90mg</td>\n",
              "      <td>3</td>\n",
              "    </tr>\n",
              "    <tr>\n",
              "      <th>2</th>\n",
              "      <td>5373</td>\n",
              "      <td>0</td>\n",
              "      <td>0</td>\n",
              "      <td>53</td>\n",
              "      <td>IB1</td>\n",
              "      <td>2021-03-08 00:00:00</td>\n",
              "      <td>1</td>\n",
              "      <td>505.0</td>\n",
              "      <td>carbo/paclitaxel</td>\n",
              "      <td>350mg</td>\n",
              "      <td>3</td>\n",
              "    </tr>\n",
              "    <tr>\n",
              "      <th>3</th>\n",
              "      <td>5397</td>\n",
              "      <td>1</td>\n",
              "      <td>0</td>\n",
              "      <td>58</td>\n",
              "      <td>IA2</td>\n",
              "      <td>18-11-2017</td>\n",
              "      <td>1</td>\n",
              "      <td>376.0</td>\n",
              "      <td>Carbo/paclitaxol</td>\n",
              "      <td>290mg</td>\n",
              "      <td>3</td>\n",
              "    </tr>\n",
              "    <tr>\n",
              "      <th>4</th>\n",
              "      <td>5525</td>\n",
              "      <td>0</td>\n",
              "      <td>0</td>\n",
              "      <td>48</td>\n",
              "      <td>IB1</td>\n",
              "      <td>2021-02-17 00:00:00</td>\n",
              "      <td>1</td>\n",
              "      <td>371.0</td>\n",
              "      <td>neupogen</td>\n",
              "      <td>30mg</td>\n",
              "      <td>2</td>\n",
              "    </tr>\n",
              "    <tr>\n",
              "      <th>5</th>\n",
              "      <td>6144</td>\n",
              "      <td>0</td>\n",
              "      <td>0</td>\n",
              "      <td>59</td>\n",
              "      <td>IB1</td>\n",
              "      <td>2021-03-08 00:00:00</td>\n",
              "      <td>1</td>\n",
              "      <td>127.0</td>\n",
              "      <td>cisplatin at GPH</td>\n",
              "      <td>60mg</td>\n",
              "      <td>2</td>\n",
              "    </tr>\n",
              "    <tr>\n",
              "      <th>6</th>\n",
              "      <td>5508</td>\n",
              "      <td>0</td>\n",
              "      <td>0</td>\n",
              "      <td>43</td>\n",
              "      <td>IB2</td>\n",
              "      <td>2021-01-13 00:00:00</td>\n",
              "      <td>1</td>\n",
              "      <td>481.0</td>\n",
              "      <td>Carboplatin/Doce</td>\n",
              "      <td>660mg</td>\n",
              "      <td>3</td>\n",
              "    </tr>\n",
              "    <tr>\n",
              "      <th>7</th>\n",
              "      <td>5302</td>\n",
              "      <td>0</td>\n",
              "      <td>0</td>\n",
              "      <td>47</td>\n",
              "      <td>IB1</td>\n",
              "      <td>2021-03-08 00:00:00</td>\n",
              "      <td>1</td>\n",
              "      <td>31.0</td>\n",
              "      <td>Carboplatin/Doce</td>\n",
              "      <td>790mg</td>\n",
              "      <td>3</td>\n",
              "    </tr>\n",
              "    <tr>\n",
              "      <th>8</th>\n",
              "      <td>5615</td>\n",
              "      <td>0</td>\n",
              "      <td>1</td>\n",
              "      <td>63</td>\n",
              "      <td>IB1</td>\n",
              "      <td>2021-03-09 00:00:00</td>\n",
              "      <td>NaN</td>\n",
              "      <td>NaN</td>\n",
              "      <td>NaN</td>\n",
              "      <td>None</td>\n",
              "      <td>0</td>\n",
              "    </tr>\n",
              "    <tr>\n",
              "      <th>9</th>\n",
              "      <td>5745</td>\n",
              "      <td>0</td>\n",
              "      <td>0</td>\n",
              "      <td>52</td>\n",
              "      <td>IB1</td>\n",
              "      <td>2021-02-17 00:00:00</td>\n",
              "      <td>NaN</td>\n",
              "      <td>NaN</td>\n",
              "      <td>pt not in the 2018 register</td>\n",
              "      <td>unknown</td>\n",
              "      <td>3</td>\n",
              "    </tr>\n",
              "  </tbody>\n",
              "</table>\n",
              "</div>"
            ],
            "text/plain": [
              "   Study ID Vital status  ... Dose of chemo  Cycles of chemo\n",
              "0      5285            1  ...         230mg                3\n",
              "1      5290            0  ...          90mg                3\n",
              "2      5373            0  ...         350mg                3\n",
              "3      5397            1  ...         290mg                3\n",
              "4      5525            0  ...          30mg                2\n",
              "5      6144            0  ...          60mg                2\n",
              "6      5508            0  ...         660mg                3\n",
              "7      5302            0  ...         790mg                3\n",
              "8      5615            0  ...          None                0\n",
              "9      5745            0  ...       unknown                3\n",
              "\n",
              "[10 rows x 11 columns]"
            ]
          },
          "metadata": {
            "tags": []
          },
          "execution_count": 10
        }
      ]
    },
    {
      "cell_type": "markdown",
      "metadata": {
        "id": "divided-sandwich"
      },
      "source": [
        "Converting dates to datetime values"
      ],
      "id": "divided-sandwich"
    },
    {
      "cell_type": "code",
      "metadata": {
        "id": "lesser-ministry"
      },
      "source": [
        "data['Last Follow up date or date of death of died'] = pd.to_datetime(data['Last Follow up date or date of death of died'])"
      ],
      "id": "lesser-ministry",
      "execution_count": 11,
      "outputs": []
    },
    {
      "cell_type": "markdown",
      "metadata": {
        "id": "opened-costa"
      },
      "source": [
        "Fixing irregular values of 'unknown' and 'None' to NaN"
      ],
      "id": "opened-costa"
    },
    {
      "cell_type": "code",
      "metadata": {
        "id": "statewide-stone"
      },
      "source": [
        "data['Dose of chemo'] = data['Dose of chemo'].replace('unknown', np.nan).replace('None', np.nan)"
      ],
      "id": "statewide-stone",
      "execution_count": 12,
      "outputs": []
    },
    {
      "cell_type": "markdown",
      "metadata": {
        "id": "tfEKC8Rc6Rz-"
      },
      "source": [
        "Add enrollment dates to data"
      ],
      "id": "tfEKC8Rc6Rz-"
    },
    {
      "cell_type": "code",
      "metadata": {
        "id": "zTea0qIj6WWc"
      },
      "source": [
        "all_patients = pd.read_csv(\"patient_enrollment_dates.csv\")\n",
        "data = data.merge(all_patients[[\"patient_id\", \"enroll_date\"]], how = \"left\", left_on = \"Study ID\", right_on = \"patient_id\").drop(columns = \"patient_id\")"
      ],
      "id": "zTea0qIj6WWc",
      "execution_count": 13,
      "outputs": []
    },
    {
      "cell_type": "markdown",
      "metadata": {
        "id": "level-impact"
      },
      "source": [
        "Finalize data"
      ],
      "id": "level-impact"
    },
    {
      "cell_type": "code",
      "metadata": {
        "id": "comfortable-management",
        "colab": {
          "base_uri": "https://localhost:8080/",
          "height": 410
        },
        "outputId": "3e716bc0-5901-4a89-cb1d-573511413c13"
      },
      "source": [
        "data = data.head(10)\n",
        "data"
      ],
      "id": "comfortable-management",
      "execution_count": 14,
      "outputs": [
        {
          "output_type": "execute_result",
          "data": {
            "text/html": [
              "<div>\n",
              "<style scoped>\n",
              "    .dataframe tbody tr th:only-of-type {\n",
              "        vertical-align: middle;\n",
              "    }\n",
              "\n",
              "    .dataframe tbody tr th {\n",
              "        vertical-align: top;\n",
              "    }\n",
              "\n",
              "    .dataframe thead th {\n",
              "        text-align: right;\n",
              "    }\n",
              "</style>\n",
              "<table border=\"1\" class=\"dataframe\">\n",
              "  <thead>\n",
              "    <tr style=\"text-align: right;\">\n",
              "      <th></th>\n",
              "      <th>Study ID</th>\n",
              "      <th>Vital status</th>\n",
              "      <th>HIV status</th>\n",
              "      <th>Age</th>\n",
              "      <th>Stage</th>\n",
              "      <th>Last Follow up date or date of death of died</th>\n",
              "      <th>VL at cancer diagnosis</th>\n",
              "      <th>CD4 at cancer diagnosis</th>\n",
              "      <th>Chemo regimen</th>\n",
              "      <th>Dose of chemo</th>\n",
              "      <th>Cycles of chemo</th>\n",
              "      <th>enroll_date</th>\n",
              "    </tr>\n",
              "  </thead>\n",
              "  <tbody>\n",
              "    <tr>\n",
              "      <th>0</th>\n",
              "      <td>5285</td>\n",
              "      <td>1</td>\n",
              "      <td>1</td>\n",
              "      <td>33</td>\n",
              "      <td>IB1</td>\n",
              "      <td>2020-07-24</td>\n",
              "      <td>NaN</td>\n",
              "      <td>NaN</td>\n",
              "      <td>Carbo/paclitaxol</td>\n",
              "      <td>230mg</td>\n",
              "      <td>3</td>\n",
              "      <td>2017-03-01</td>\n",
              "    </tr>\n",
              "    <tr>\n",
              "      <th>1</th>\n",
              "      <td>5290</td>\n",
              "      <td>0</td>\n",
              "      <td>1</td>\n",
              "      <td>42</td>\n",
              "      <td>IB1</td>\n",
              "      <td>2021-03-17</td>\n",
              "      <td>NaN</td>\n",
              "      <td>NaN</td>\n",
              "      <td>Cisplatin/paclitaxel</td>\n",
              "      <td>90mg</td>\n",
              "      <td>3</td>\n",
              "      <td>2017-03-08</td>\n",
              "    </tr>\n",
              "    <tr>\n",
              "      <th>2</th>\n",
              "      <td>5373</td>\n",
              "      <td>0</td>\n",
              "      <td>0</td>\n",
              "      <td>53</td>\n",
              "      <td>IB1</td>\n",
              "      <td>2021-03-08</td>\n",
              "      <td>1</td>\n",
              "      <td>505.0</td>\n",
              "      <td>carbo/paclitaxel</td>\n",
              "      <td>350mg</td>\n",
              "      <td>3</td>\n",
              "      <td>2017-05-17</td>\n",
              "    </tr>\n",
              "    <tr>\n",
              "      <th>3</th>\n",
              "      <td>5397</td>\n",
              "      <td>1</td>\n",
              "      <td>0</td>\n",
              "      <td>58</td>\n",
              "      <td>IA2</td>\n",
              "      <td>2017-11-18</td>\n",
              "      <td>1</td>\n",
              "      <td>376.0</td>\n",
              "      <td>Carbo/paclitaxol</td>\n",
              "      <td>290mg</td>\n",
              "      <td>3</td>\n",
              "      <td>2017-05-31</td>\n",
              "    </tr>\n",
              "    <tr>\n",
              "      <th>4</th>\n",
              "      <td>5525</td>\n",
              "      <td>0</td>\n",
              "      <td>0</td>\n",
              "      <td>48</td>\n",
              "      <td>IB1</td>\n",
              "      <td>2021-02-17</td>\n",
              "      <td>1</td>\n",
              "      <td>371.0</td>\n",
              "      <td>neupogen</td>\n",
              "      <td>30mg</td>\n",
              "      <td>2</td>\n",
              "      <td>2017-09-13</td>\n",
              "    </tr>\n",
              "    <tr>\n",
              "      <th>5</th>\n",
              "      <td>6144</td>\n",
              "      <td>0</td>\n",
              "      <td>0</td>\n",
              "      <td>59</td>\n",
              "      <td>IB1</td>\n",
              "      <td>2021-03-08</td>\n",
              "      <td>1</td>\n",
              "      <td>127.0</td>\n",
              "      <td>cisplatin at GPH</td>\n",
              "      <td>60mg</td>\n",
              "      <td>2</td>\n",
              "      <td>2019-06-06</td>\n",
              "    </tr>\n",
              "    <tr>\n",
              "      <th>6</th>\n",
              "      <td>5508</td>\n",
              "      <td>0</td>\n",
              "      <td>0</td>\n",
              "      <td>43</td>\n",
              "      <td>IB2</td>\n",
              "      <td>2021-01-13</td>\n",
              "      <td>1</td>\n",
              "      <td>481.0</td>\n",
              "      <td>Carboplatin/Doce</td>\n",
              "      <td>660mg</td>\n",
              "      <td>3</td>\n",
              "      <td>2017-08-30</td>\n",
              "    </tr>\n",
              "    <tr>\n",
              "      <th>7</th>\n",
              "      <td>5302</td>\n",
              "      <td>0</td>\n",
              "      <td>0</td>\n",
              "      <td>47</td>\n",
              "      <td>IB1</td>\n",
              "      <td>2021-03-08</td>\n",
              "      <td>1</td>\n",
              "      <td>31.0</td>\n",
              "      <td>Carboplatin/Doce</td>\n",
              "      <td>790mg</td>\n",
              "      <td>3</td>\n",
              "      <td>2017-03-15</td>\n",
              "    </tr>\n",
              "    <tr>\n",
              "      <th>8</th>\n",
              "      <td>5615</td>\n",
              "      <td>0</td>\n",
              "      <td>1</td>\n",
              "      <td>63</td>\n",
              "      <td>IB1</td>\n",
              "      <td>2021-03-09</td>\n",
              "      <td>NaN</td>\n",
              "      <td>NaN</td>\n",
              "      <td>NaN</td>\n",
              "      <td>NaN</td>\n",
              "      <td>0</td>\n",
              "      <td>2017-12-06</td>\n",
              "    </tr>\n",
              "    <tr>\n",
              "      <th>9</th>\n",
              "      <td>5745</td>\n",
              "      <td>0</td>\n",
              "      <td>0</td>\n",
              "      <td>52</td>\n",
              "      <td>IB1</td>\n",
              "      <td>2021-02-17</td>\n",
              "      <td>NaN</td>\n",
              "      <td>NaN</td>\n",
              "      <td>pt not in the 2018 register</td>\n",
              "      <td>NaN</td>\n",
              "      <td>3</td>\n",
              "      <td>2018-05-09</td>\n",
              "    </tr>\n",
              "  </tbody>\n",
              "</table>\n",
              "</div>"
            ],
            "text/plain": [
              "   Study ID Vital status HIV status  ...  Dose of chemo Cycles of chemo enroll_date\n",
              "0      5285            1          1  ...          230mg               3  2017-03-01\n",
              "1      5290            0          1  ...           90mg               3  2017-03-08\n",
              "2      5373            0          0  ...          350mg               3  2017-05-17\n",
              "3      5397            1          0  ...          290mg               3  2017-05-31\n",
              "4      5525            0          0  ...           30mg               2  2017-09-13\n",
              "5      6144            0          0  ...           60mg               2  2019-06-06\n",
              "6      5508            0          0  ...          660mg               3  2017-08-30\n",
              "7      5302            0          0  ...          790mg               3  2017-03-15\n",
              "8      5615            0          1  ...            NaN               0  2017-12-06\n",
              "9      5745            0          0  ...            NaN               3  2018-05-09\n",
              "\n",
              "[10 rows x 12 columns]"
            ]
          },
          "metadata": {
            "tags": []
          },
          "execution_count": 14
        }
      ]
    },
    {
      "cell_type": "markdown",
      "metadata": {
        "id": "tracked-serum"
      },
      "source": [
        "Describe the columns in the data"
      ],
      "id": "tracked-serum"
    },
    {
      "cell_type": "code",
      "metadata": {
        "id": "banned-chapter",
        "colab": {
          "base_uri": "https://localhost:8080/"
        },
        "outputId": "4616fa3f-151b-4837-e869-5b529eb21996"
      },
      "source": [
        "data['Vital status'].describe()"
      ],
      "id": "banned-chapter",
      "execution_count": 15,
      "outputs": [
        {
          "output_type": "execute_result",
          "data": {
            "text/plain": [
              "count     10\n",
              "unique     2\n",
              "top        0\n",
              "freq       8\n",
              "Name: Vital status, dtype: int64"
            ]
          },
          "metadata": {
            "tags": []
          },
          "execution_count": 15
        }
      ]
    },
    {
      "cell_type": "code",
      "metadata": {
        "id": "concrete-aviation",
        "colab": {
          "base_uri": "https://localhost:8080/"
        },
        "outputId": "62c4514c-2107-4f86-c4b6-e5e6f305417d"
      },
      "source": [
        "data['HIV status'].describe()"
      ],
      "id": "concrete-aviation",
      "execution_count": 16,
      "outputs": [
        {
          "output_type": "execute_result",
          "data": {
            "text/plain": [
              "count     10\n",
              "unique     2\n",
              "top        0\n",
              "freq       7\n",
              "Name: HIV status, dtype: int64"
            ]
          },
          "metadata": {
            "tags": []
          },
          "execution_count": 16
        }
      ]
    },
    {
      "cell_type": "code",
      "metadata": {
        "id": "compound-poetry",
        "colab": {
          "base_uri": "https://localhost:8080/"
        },
        "outputId": "d50242ae-a07f-4267-d840-7cdfd52b7323"
      },
      "source": [
        "data['Age'].describe()"
      ],
      "id": "compound-poetry",
      "execution_count": 17,
      "outputs": [
        {
          "output_type": "execute_result",
          "data": {
            "text/plain": [
              "count    10.000000\n",
              "mean     49.800000\n",
              "std       9.077445\n",
              "min      33.000000\n",
              "25%      44.000000\n",
              "50%      50.000000\n",
              "75%      56.750000\n",
              "max      63.000000\n",
              "Name: Age, dtype: float64"
            ]
          },
          "metadata": {
            "tags": []
          },
          "execution_count": 17
        }
      ]
    },
    {
      "cell_type": "code",
      "metadata": {
        "id": "satisfactory-nickname",
        "colab": {
          "base_uri": "https://localhost:8080/"
        },
        "outputId": "02c8dd1c-35ac-42e5-e4db-7ae82182f6b1"
      },
      "source": [
        "data['Stage'].describe()"
      ],
      "id": "satisfactory-nickname",
      "execution_count": 18,
      "outputs": [
        {
          "output_type": "execute_result",
          "data": {
            "text/plain": [
              "count      10\n",
              "unique      3\n",
              "top       IB1\n",
              "freq        8\n",
              "Name: Stage, dtype: object"
            ]
          },
          "metadata": {
            "tags": []
          },
          "execution_count": 18
        }
      ]
    },
    {
      "cell_type": "code",
      "metadata": {
        "id": "absent-peter",
        "colab": {
          "base_uri": "https://localhost:8080/"
        },
        "outputId": "bfa8da40-3c09-44f2-d1e9-b440b01a0160"
      },
      "source": [
        "data.groupby(data['Stage'])['Study ID'].count() "
      ],
      "id": "absent-peter",
      "execution_count": 19,
      "outputs": [
        {
          "output_type": "execute_result",
          "data": {
            "text/plain": [
              "Stage\n",
              "IA2    1\n",
              "IB1    8\n",
              "IB2    1\n",
              "Name: Study ID, dtype: int64"
            ]
          },
          "metadata": {
            "tags": []
          },
          "execution_count": 19
        }
      ]
    },
    {
      "cell_type": "code",
      "metadata": {
        "id": "smart-longer",
        "colab": {
          "base_uri": "https://localhost:8080/"
        },
        "outputId": "6b6c4688-e85f-4e93-9af5-e8e1d44c8a4d"
      },
      "source": [
        "data['Last Follow up date or date of death of died'].describe()"
      ],
      "id": "smart-longer",
      "execution_count": 20,
      "outputs": [
        {
          "output_type": "execute_result",
          "data": {
            "text/plain": [
              "count                      10\n",
              "unique                      7\n",
              "top       2021-03-08 00:00:00\n",
              "freq                        3\n",
              "first     2017-11-18 00:00:00\n",
              "last      2021-03-17 00:00:00\n",
              "Name: Last Follow up date or date of death of died, dtype: object"
            ]
          },
          "metadata": {
            "tags": []
          },
          "execution_count": 20
        }
      ]
    },
    {
      "cell_type": "code",
      "metadata": {
        "id": "certain-thread",
        "colab": {
          "base_uri": "https://localhost:8080/"
        },
        "outputId": "daf690ac-e4d6-417e-b965-ba913beea027"
      },
      "source": [
        "data['VL at cancer diagnosis'].describe()"
      ],
      "id": "certain-thread",
      "execution_count": 21,
      "outputs": [
        {
          "output_type": "execute_result",
          "data": {
            "text/plain": [
              "count     6\n",
              "unique    1\n",
              "top       1\n",
              "freq      6\n",
              "Name: VL at cancer diagnosis, dtype: int64"
            ]
          },
          "metadata": {
            "tags": []
          },
          "execution_count": 21
        }
      ]
    },
    {
      "cell_type": "code",
      "metadata": {
        "id": "boxed-payday",
        "colab": {
          "base_uri": "https://localhost:8080/"
        },
        "outputId": "998f6f3f-5936-4c56-f92e-c2c1937f4074"
      },
      "source": [
        "data['CD4 at cancer diagnosis'].describe()"
      ],
      "id": "boxed-payday",
      "execution_count": 22,
      "outputs": [
        {
          "output_type": "execute_result",
          "data": {
            "text/plain": [
              "count      6.000000\n",
              "mean     315.166667\n",
              "std      193.138724\n",
              "min       31.000000\n",
              "25%      188.000000\n",
              "50%      373.500000\n",
              "75%      454.750000\n",
              "max      505.000000\n",
              "Name: CD4 at cancer diagnosis, dtype: float64"
            ]
          },
          "metadata": {
            "tags": []
          },
          "execution_count": 22
        }
      ]
    },
    {
      "cell_type": "code",
      "metadata": {
        "id": "meaningful-fireplace",
        "colab": {
          "base_uri": "https://localhost:8080/"
        },
        "outputId": "fe8afcf0-3db0-4b58-b6f6-608648172c62"
      },
      "source": [
        "data['Chemo regimen'].describe()"
      ],
      "id": "meaningful-fireplace",
      "execution_count": 23,
      "outputs": [
        {
          "output_type": "execute_result",
          "data": {
            "text/plain": [
              "count                    9\n",
              "unique                   7\n",
              "top       Carbo/paclitaxol\n",
              "freq                     2\n",
              "Name: Chemo regimen, dtype: object"
            ]
          },
          "metadata": {
            "tags": []
          },
          "execution_count": 23
        }
      ]
    },
    {
      "cell_type": "code",
      "metadata": {
        "id": "important-aquatic",
        "colab": {
          "base_uri": "https://localhost:8080/"
        },
        "outputId": "6f023973-0ad2-4760-d298-82619745051c"
      },
      "source": [
        "data['Dose of chemo'].describe()"
      ],
      "id": "important-aquatic",
      "execution_count": 24,
      "outputs": [
        {
          "output_type": "execute_result",
          "data": {
            "text/plain": [
              "count         8\n",
              "unique        8\n",
              "top       350mg\n",
              "freq          1\n",
              "Name: Dose of chemo, dtype: object"
            ]
          },
          "metadata": {
            "tags": []
          },
          "execution_count": 24
        }
      ]
    },
    {
      "cell_type": "code",
      "metadata": {
        "id": "unnecessary-greek",
        "colab": {
          "base_uri": "https://localhost:8080/"
        },
        "outputId": "b37598da-c1eb-4fa1-a2ff-2a056aea5d48"
      },
      "source": [
        "data['Cycles of chemo'].describe()"
      ],
      "id": "unnecessary-greek",
      "execution_count": 25,
      "outputs": [
        {
          "output_type": "execute_result",
          "data": {
            "text/plain": [
              "count    10.000000\n",
              "mean      2.500000\n",
              "std       0.971825\n",
              "min       0.000000\n",
              "25%       2.250000\n",
              "50%       3.000000\n",
              "75%       3.000000\n",
              "max       3.000000\n",
              "Name: Cycles of chemo, dtype: float64"
            ]
          },
          "metadata": {
            "tags": []
          },
          "execution_count": 25
        }
      ]
    },
    {
      "cell_type": "code",
      "metadata": {
        "id": "following-tenant"
      },
      "source": [
        "data.to_csv('article_4_cleaned_data.csv')"
      ],
      "id": "following-tenant",
      "execution_count": 26,
      "outputs": []
    }
  ]
}