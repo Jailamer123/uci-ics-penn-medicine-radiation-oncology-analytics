{
 "cells": [
  {
   "cell_type": "code",
   "execution_count": 14,
   "metadata": {},
   "outputs": [],
   "source": [
    "import pandas as pd\n",
    "import datetime"
   ]
  },
  {
   "cell_type": "code",
   "execution_count": 10,
   "metadata": {},
   "outputs": [
    {
     "name": "stdout",
     "output_type": "stream",
     "text": [
      "(1043, 122)\n"
     ]
    },
    {
     "data": {
      "text/html": [
       "<div>\n",
       "<style scoped>\n",
       "    .dataframe tbody tr th:only-of-type {\n",
       "        vertical-align: middle;\n",
       "    }\n",
       "\n",
       "    .dataframe tbody tr th {\n",
       "        vertical-align: top;\n",
       "    }\n",
       "\n",
       "    .dataframe thead th {\n",
       "        text-align: right;\n",
       "    }\n",
       "</style>\n",
       "<table border=\"1\" class=\"dataframe\">\n",
       "  <thead>\n",
       "    <tr style=\"text-align: right;\">\n",
       "      <th></th>\n",
       "      <th>Unnamed: 0</th>\n",
       "      <th>patient_id</th>\n",
       "      <th>enroll_age</th>\n",
       "      <th>age_cat</th>\n",
       "      <th>hiv_status</th>\n",
       "      <th>marital</th>\n",
       "      <th>distance</th>\n",
       "      <th>cancer_screening</th>\n",
       "      <th>combined_cancer_stage</th>\n",
       "      <th>combined_cancer_stage_exact</th>\n",
       "      <th>...</th>\n",
       "      <th>primary_surgery_crt</th>\n",
       "      <th>treatment</th>\n",
       "      <th>pathology_date</th>\n",
       "      <th>actual_treat_start_date</th>\n",
       "      <th>init_cancer_stage</th>\n",
       "      <th>init_cancer_stage_exact</th>\n",
       "      <th>final_cancer_stage</th>\n",
       "      <th>final_cancer_stage_exact</th>\n",
       "      <th>chemo_only</th>\n",
       "      <th>primary_surgery_rt</th>\n",
       "    </tr>\n",
       "  </thead>\n",
       "  <tbody>\n",
       "    <tr>\n",
       "      <th>0</th>\n",
       "      <td>0</td>\n",
       "      <td>1.0</td>\n",
       "      <td>50.0</td>\n",
       "      <td>2.0</td>\n",
       "      <td>1.0</td>\n",
       "      <td>2.0</td>\n",
       "      <td>59.2</td>\n",
       "      <td>1.0</td>\n",
       "      <td>4.0</td>\n",
       "      <td>12.0</td>\n",
       "      <td>...</td>\n",
       "      <td>0</td>\n",
       "      <td>1</td>\n",
       "      <td>2014-11-20</td>\n",
       "      <td>2015-02-03</td>\n",
       "      <td>4.0</td>\n",
       "      <td>12.0</td>\n",
       "      <td>3.0</td>\n",
       "      <td>10.0</td>\n",
       "      <td>0</td>\n",
       "      <td>0</td>\n",
       "    </tr>\n",
       "    <tr>\n",
       "      <th>1</th>\n",
       "      <td>1</td>\n",
       "      <td>3.0</td>\n",
       "      <td>40.0</td>\n",
       "      <td>2.0</td>\n",
       "      <td>1.0</td>\n",
       "      <td>1.0</td>\n",
       "      <td>310.0</td>\n",
       "      <td>0.0</td>\n",
       "      <td>3.0</td>\n",
       "      <td>10.0</td>\n",
       "      <td>...</td>\n",
       "      <td>0</td>\n",
       "      <td>1</td>\n",
       "      <td>2014-08-07</td>\n",
       "      <td>2015-02-04</td>\n",
       "      <td>3.0</td>\n",
       "      <td>10.0</td>\n",
       "      <td>NaN</td>\n",
       "      <td>NaN</td>\n",
       "      <td>0</td>\n",
       "      <td>0</td>\n",
       "    </tr>\n",
       "    <tr>\n",
       "      <th>2</th>\n",
       "      <td>2</td>\n",
       "      <td>5.0</td>\n",
       "      <td>48.0</td>\n",
       "      <td>2.0</td>\n",
       "      <td>1.0</td>\n",
       "      <td>3.0</td>\n",
       "      <td>0.0</td>\n",
       "      <td>0.0</td>\n",
       "      <td>3.0</td>\n",
       "      <td>10.0</td>\n",
       "      <td>...</td>\n",
       "      <td>0</td>\n",
       "      <td>1</td>\n",
       "      <td>2015-01-27</td>\n",
       "      <td>2015-02-04</td>\n",
       "      <td>3.0</td>\n",
       "      <td>10.0</td>\n",
       "      <td>3.0</td>\n",
       "      <td>10.0</td>\n",
       "      <td>0</td>\n",
       "      <td>0</td>\n",
       "    </tr>\n",
       "    <tr>\n",
       "      <th>3</th>\n",
       "      <td>3</td>\n",
       "      <td>9.0</td>\n",
       "      <td>65.0</td>\n",
       "      <td>3.0</td>\n",
       "      <td>0.0</td>\n",
       "      <td>3.0</td>\n",
       "      <td>59.2</td>\n",
       "      <td>0.0</td>\n",
       "      <td>2.0</td>\n",
       "      <td>8.0</td>\n",
       "      <td>...</td>\n",
       "      <td>0</td>\n",
       "      <td>1</td>\n",
       "      <td>2014-10-13</td>\n",
       "      <td>2015-02-17</td>\n",
       "      <td>2.0</td>\n",
       "      <td>8.0</td>\n",
       "      <td>NaN</td>\n",
       "      <td>NaN</td>\n",
       "      <td>0</td>\n",
       "      <td>0</td>\n",
       "    </tr>\n",
       "    <tr>\n",
       "      <th>4</th>\n",
       "      <td>4</td>\n",
       "      <td>11.0</td>\n",
       "      <td>51.0</td>\n",
       "      <td>2.0</td>\n",
       "      <td>1.0</td>\n",
       "      <td>3.0</td>\n",
       "      <td>0.0</td>\n",
       "      <td>1.0</td>\n",
       "      <td>3.0</td>\n",
       "      <td>9.0</td>\n",
       "      <td>...</td>\n",
       "      <td>0</td>\n",
       "      <td>1</td>\n",
       "      <td>2014-08-11</td>\n",
       "      <td>2015-01-22</td>\n",
       "      <td>NaN</td>\n",
       "      <td>NaN</td>\n",
       "      <td>3.0</td>\n",
       "      <td>9.0</td>\n",
       "      <td>0</td>\n",
       "      <td>0</td>\n",
       "    </tr>\n",
       "  </tbody>\n",
       "</table>\n",
       "<p>5 rows × 122 columns</p>\n",
       "</div>"
      ],
      "text/plain": [
       "   Unnamed: 0 patient_id  enroll_age  age_cat  hiv_status  marital  distance  \\\n",
       "0           0        1.0        50.0      2.0         1.0      2.0      59.2   \n",
       "1           1        3.0        40.0      2.0         1.0      1.0     310.0   \n",
       "2           2        5.0        48.0      2.0         1.0      3.0       0.0   \n",
       "3           3        9.0        65.0      3.0         0.0      3.0      59.2   \n",
       "4           4       11.0        51.0      2.0         1.0      3.0       0.0   \n",
       "\n",
       "   cancer_screening  combined_cancer_stage  combined_cancer_stage_exact  ...  \\\n",
       "0               1.0                    4.0                         12.0  ...   \n",
       "1               0.0                    3.0                         10.0  ...   \n",
       "2               0.0                    3.0                         10.0  ...   \n",
       "3               0.0                    2.0                          8.0  ...   \n",
       "4               1.0                    3.0                          9.0  ...   \n",
       "\n",
       "   primary_surgery_crt  treatment  pathology_date  actual_treat_start_date  \\\n",
       "0                    0          1      2014-11-20               2015-02-03   \n",
       "1                    0          1      2014-08-07               2015-02-04   \n",
       "2                    0          1      2015-01-27               2015-02-04   \n",
       "3                    0          1      2014-10-13               2015-02-17   \n",
       "4                    0          1      2014-08-11               2015-01-22   \n",
       "\n",
       "   init_cancer_stage  init_cancer_stage_exact  final_cancer_stage  \\\n",
       "0                4.0                     12.0                 3.0   \n",
       "1                3.0                     10.0                 NaN   \n",
       "2                3.0                     10.0                 3.0   \n",
       "3                2.0                      8.0                 NaN   \n",
       "4                NaN                      NaN                 3.0   \n",
       "\n",
       "   final_cancer_stage_exact  chemo_only  primary_surgery_rt  \n",
       "0                      10.0           0                   0  \n",
       "1                       NaN           0                   0  \n",
       "2                      10.0           0                   0  \n",
       "3                       NaN           0                   0  \n",
       "4                       9.0           0                   0  \n",
       "\n",
       "[5 rows x 122 columns]"
      ]
     },
     "execution_count": 10,
     "metadata": {},
     "output_type": "execute_result"
    }
   ],
   "source": [
    "data = pd.read_csv(\"../data/data.csv\")\n",
    "\n",
    "data[\"pathology_date\"] = pd.to_datetime(data[\"pathology_date\"])\n",
    "data[\"treat_start_date\"] = pd.to_datetime(data[\"treat_start_date\"]) \n",
    "\n",
    "print(data.shape)\n",
    "data.head()"
   ]
  },
  {
   "cell_type": "markdown",
   "metadata": {},
   "source": [
    "For 1 and 2 and ib2  and above who are RT patients only:\n",
    "1.       The % of women whose biopsy/pathàMDT visit is <30 days\n",
    "2.       The % of women whose biopsy/pathàMDT visit is <60 days\n",
    "3.       The % of women whose biopsy/pathàtreatment start is <60 days\n",
    "4.       The % of women whose biopsy/pathàtreatment start is <90 days"
   ]
  },
  {
   "cell_type": "code",
   "execution_count": 15,
   "metadata": {
    "scrolled": true
   },
   "outputs": [
    {
     "name": "stdout",
     "output_type": "stream",
     "text": [
      "(341, 122)\n"
     ]
    },
    {
     "data": {
      "text/plain": [
       "combined_cancer_stage\n",
       "1.0     20\n",
       "2.0     90\n",
       "3.0    162\n",
       "4.0     65\n",
       "Name: patient_id, dtype: int64"
      ]
     },
     "metadata": {},
     "output_type": "display_data"
    },
    {
     "data": {
      "text/plain": [
       "combined_cancer_stage_exact\n",
       "1.0       2\n",
       "2.0       2\n",
       "3.0       2\n",
       "4.0       4\n",
       "5.0       5\n",
       "6.0       3\n",
       "7.0      12\n",
       "8.0      78\n",
       "9.0      19\n",
       "10.0    142\n",
       "11.0     56\n",
       "12.0      9\n",
       "14.0      2\n",
       "15.0      1\n",
       "Name: patient_id, dtype: int64"
      ]
     },
     "metadata": {},
     "output_type": "display_data"
    },
    {
     "name": "stderr",
     "output_type": "stream",
     "text": [
      "<ipython-input-15-cf9bb09e922b>:6: SettingWithCopyWarning: \n",
      "A value is trying to be set on a copy of a slice from a DataFrame.\n",
      "Try using .loc[row_indexer,col_indexer] = value instead\n",
      "\n",
      "See the caveats in the documentation: https://pandas.pydata.org/pandas-docs/stable/user_guide/indexing.html#returning-a-view-versus-a-copy\n",
      "  rt_patients[\"path_to_treat\"] = (rt_patients[\"treat_start_date\"] - rt_patients[\"pathology_date\"]).dt.days\n"
     ]
    }
   ],
   "source": [
    "rt_patients = data[data[\"rt\"] == 1]\n",
    "print(rt_patients.shape)\n",
    "display(rt_patients.groupby([\"combined_cancer_stage\"])[\"patient_id\"].count())\n",
    "display(rt_patients.groupby([\"combined_cancer_stage_exact\"])[\"patient_id\"].count())\n",
    "\n",
    "rt_patients[\"path_to_treat\"] = (rt_patients[\"treat_start_date\"] - rt_patients[\"pathology_date\"]).dt.days"
   ]
  },
  {
   "cell_type": "code",
   "execution_count": 16,
   "metadata": {},
   "outputs": [
    {
     "data": {
      "text/plain": [
       "count     340.000000\n",
       "mean      114.761765\n",
       "std       146.521936\n",
       "min      -349.000000\n",
       "25%        49.750000\n",
       "50%        77.500000\n",
       "75%       121.000000\n",
       "max      1108.000000\n",
       "Name: path_to_treat, dtype: float64"
      ]
     },
     "execution_count": 16,
     "metadata": {},
     "output_type": "execute_result"
    }
   ],
   "source": [
    "rt_patients[\"path_to_treat\"].describe()"
   ]
  },
  {
   "cell_type": "code",
   "execution_count": 19,
   "metadata": {},
   "outputs": [
    {
     "name": "stdout",
     "output_type": "stream",
     "text": [
      "(110, 123)\n",
      "(109, 123)\n",
      "0.27522935779816515\n",
      "0.48623853211009177\n"
     ]
    }
   ],
   "source": [
    "# Stages 1 and 2\n",
    "group1 = rt_patients[rt_patients[\"combined_cancer_stage\"].isin([1,2])]\n",
    "print(group1.shape)\n",
    "print(group1[~group1[\"path_to_treat\"].isnull()].shape)\n",
    "\n",
    "print(group1[group1[\"path_to_treat\"] < 60].shape[0]/109)\n",
    "print(group1[group1[\"path_to_treat\"] < 90].shape[0]/109)"
   ]
  },
  {
   "cell_type": "code",
   "execution_count": 21,
   "metadata": {},
   "outputs": [
    {
     "name": "stdout",
     "output_type": "stream",
     "text": [
      "(322, 123)\n",
      "(321, 123)\n",
      "0.3302180685358255\n",
      "0.5981308411214953\n"
     ]
    }
   ],
   "source": [
    "group2 = rt_patients[rt_patients[\"combined_cancer_stage_exact\"] >= 6]\n",
    "print(group2.shape)\n",
    "print(group2[~group2[\"path_to_treat\"].isnull()].shape)\n",
    "\n",
    "print(group2[group2[\"path_to_treat\"] < 60].shape[0]/321)\n",
    "print(group2[group2[\"path_to_treat\"] < 90].shape[0]/321)"
   ]
  }
 ],
 "metadata": {
  "kernelspec": {
   "display_name": "Python 3",
   "language": "python",
   "name": "python3"
  },
  "language_info": {
   "codemirror_mode": {
    "name": "ipython",
    "version": 3
   },
   "file_extension": ".py",
   "mimetype": "text/x-python",
   "name": "python",
   "nbconvert_exporter": "python",
   "pygments_lexer": "ipython3",
   "version": "3.8.0"
  }
 },
 "nbformat": 4,
 "nbformat_minor": 4
}
